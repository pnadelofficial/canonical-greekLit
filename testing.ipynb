{
 "cells": [
  {
   "cell_type": "code",
   "execution_count": 9,
   "metadata": {},
   "outputs": [],
   "source": [
    "import os\n",
    "from bs4 import BeautifulSoup\n",
    "import pandas as pd\n",
    "import numpy as np\n",
    "import gensim\n",
    "import plotly.express as px\n",
    "from sklearn.manifold import TSNE\n",
    "tsne = TSNE(2)"
   ]
  },
  {
   "cell_type": "markdown",
   "metadata": {},
   "source": [
    "# Data"
   ]
  },
  {
   "cell_type": "code",
   "execution_count": 1,
   "metadata": {},
   "outputs": [],
   "source": [
    "def get_fnames(cts_list):\n",
    "  author_by_cts = []\n",
    "  for cts in cts_list:\n",
    "    author_by_cts += [i for i  in os.walk(f'./data/{cts}')][1:]\n",
    "\n",
    "  f_names = []\n",
    "  for dir in author_by_cts:\n",
    "    for f_name in dir[2]:\n",
    "      if ('grc2' in f_name) and ('json' not in f_name):\n",
    "        f_names.append(f\"{dir[0]}/{f_name}\")\n",
    "      elif ('grc1' in f_name) and ('json' not in f_name):\n",
    "        f_names.append(f\"{dir[0]}/{f_name}\")\n",
    "\n",
    "  return f_names"
   ]
  },
  {
   "cell_type": "code",
   "execution_count": 6,
   "metadata": {},
   "outputs": [],
   "source": [
    "ctses = list(os.walk('./data'))[0][1]\n",
    "f_names = get_fnames(ctses)"
   ]
  },
  {
   "cell_type": "code",
   "execution_count": 84,
   "metadata": {},
   "outputs": [],
   "source": [
    "def get_title_author_text(f_name):\n",
    "  soup = BeautifulSoup(open(f_name), features='xml')\n",
    "  if len(soup.find_all('p')) > 3:\n",
    "    try:\n",
    "      text = [' '.join(p.text.split('.')[1:]).strip().replace('\\n             ','').replace('\\n     ','') for p in soup.find_all('p')[1:]]\n",
    "    except IndexError:\n",
    "      text = [p.text.strip() for p in soup.find_all('p')[2:]]\n",
    "    \n",
    "    if 'New Testament' in soup.title.text:\n",
    "      return soup.title.text, 'New Testament', text\n",
    "    elif 'Greek Anthology' not in soup.title.text:\n",
    "      return soup.title.text, soup.author.text, text\n",
    "  else:\n",
    "    text = [l.text for l in soup.find_all('l')]\n",
    "\n",
    "    if 'Greek Anthology' not in soup.title.text:\n",
    "      return soup.title.text, soup.author.text, text"
   ]
  },
  {
   "cell_type": "code",
   "execution_count": 102,
   "metadata": {},
   "outputs": [],
   "source": [
    "greek_dict = {}\n",
    "for f_name in f_names:\n",
    "  greek_dict[f_name] = get_title_author_text(f_name)"
   ]
  },
  {
   "cell_type": "code",
   "execution_count": 103,
   "metadata": {},
   "outputs": [],
   "source": [
    "g = pd.DataFrame.from_dict(greek_dict, orient='index').reset_index().rename(columns={'index':'filename',0:'title',1:'author',2:'text_list'})\n",
    "g = g.dropna()"
   ]
  },
  {
   "cell_type": "code",
   "execution_count": 104,
   "metadata": {},
   "outputs": [
    {
     "data": {
      "text/html": [
       "<div>\n",
       "<style scoped>\n",
       "    .dataframe tbody tr th:only-of-type {\n",
       "        vertical-align: middle;\n",
       "    }\n",
       "\n",
       "    .dataframe tbody tr th {\n",
       "        vertical-align: top;\n",
       "    }\n",
       "\n",
       "    .dataframe thead th {\n",
       "        text-align: right;\n",
       "    }\n",
       "</style>\n",
       "<table border=\"1\" class=\"dataframe\">\n",
       "  <thead>\n",
       "    <tr style=\"text-align: right;\">\n",
       "      <th></th>\n",
       "      <th>filename</th>\n",
       "      <th>title</th>\n",
       "      <th>author</th>\n",
       "      <th>text_list</th>\n",
       "    </tr>\n",
       "  </thead>\n",
       "  <tbody>\n",
       "    <tr>\n",
       "      <th>0</th>\n",
       "      <td>./data/tlg0057/tlg010/tlg0057.tlg010.perseus-g...</td>\n",
       "      <td>On the Natural Faculties.</td>\n",
       "      <td>Galen</td>\n",
       "      <td>[εἰ δέ τις καὶ τοῖς \\nφυτοῖς ψυχῆς μεταδίδωσι ...</td>\n",
       "    </tr>\n",
       "    <tr>\n",
       "      <th>1</th>\n",
       "      <td>./data/tlg0059/tlg009/tlg0059.tlg009.perseus-g...</td>\n",
       "      <td>Parmenides</td>\n",
       "      <td>Plato</td>\n",
       "      <td>[ἀλλὰ μὲν δή, εἶπον ἐγώ, πάρειμί γε ἐπʼ αὐτὸ τ...</td>\n",
       "    </tr>\n",
       "    <tr>\n",
       "      <th>2</th>\n",
       "      <td>./data/tlg0059/tlg036/tlg0059.tlg036.perseus-g...</td>\n",
       "      <td>Epistles</td>\n",
       "      <td>Plato</td>\n",
       "      <td>[, διατρίψας ἐγὼ παρʼ ὑμῖν χρόνον τοσοῦτον καὶ...</td>\n",
       "    </tr>\n",
       "    <tr>\n",
       "      <th>3</th>\n",
       "      <td>./data/tlg0059/tlg031/tlg0059.tlg031.perseus-g...</td>\n",
       "      <td>Timaeus</td>\n",
       "      <td>Plato</td>\n",
       "      <td>[εἷς, δύο, τρεῖς· ὁ δὲ δὴ τέταρτος ἡμῖν, ὦ φίλ...</td>\n",
       "    </tr>\n",
       "    <tr>\n",
       "      <th>4</th>\n",
       "      <td>./data/tlg0059/tlg007/tlg0059.tlg007.perseus-g...</td>\n",
       "      <td>Sophist</td>\n",
       "      <td>Plato</td>\n",
       "      <td>[κατὰ τὴν χθὲς ὁμολογίαν, ὦ Σώκρατες, ἥκομεν α...</td>\n",
       "    </tr>\n",
       "    <tr>\n",
       "      <th>...</th>\n",
       "      <td>...</td>\n",
       "      <td>...</td>\n",
       "      <td>...</td>\n",
       "      <td>...</td>\n",
       "    </tr>\n",
       "    <tr>\n",
       "      <th>763</th>\n",
       "      <td>./data/tlg0014/tlg019/tlg0014.tlg019.perseus-g...</td>\n",
       "      <td>περὶ τῆς παραπρεσβείας</td>\n",
       "      <td>Demosthenes</td>\n",
       "      <td>[δεήσομαι δὲ πάντων ὑμῶν, ἃ καὶ τοῖς μὴ δεηθεῖ...</td>\n",
       "    </tr>\n",
       "    <tr>\n",
       "      <th>764</th>\n",
       "      <td>./data/tlg0014/tlg021/tlg0014.tlg021.perseus-g...</td>\n",
       "      <td>κατὰ Μειδίου περὶ τοῦ Κονδύλου</td>\n",
       "      <td>Demosthenes</td>\n",
       "      <td>[ἐγὼ δʼ, ὅπερ ἂν καὶ ὑμῶν ἕκαστος ὑβρισθεὶς πρ...</td>\n",
       "    </tr>\n",
       "    <tr>\n",
       "      <th>765</th>\n",
       "      <td>./data/tlg0014/tlg017/tlg0014.tlg017.perseus-g...</td>\n",
       "      <td>περὶ τῶν πρὸς Ἀλέξανδρον συνθηκῶν</td>\n",
       "      <td>Demosthenes</td>\n",
       "      <td>[δεῖ\\n\\t\\t\\t\\t\\tτοίνυν τοὺς λίαν ἐπʼ αὐτὰ παρα...</td>\n",
       "    </tr>\n",
       "    <tr>\n",
       "      <th>766</th>\n",
       "      <td>./data/tlg0014/tlg028/tlg0014.tlg028.perseus-g...</td>\n",
       "      <td>κατὰ Ἀφόβου β΄</td>\n",
       "      <td>Demosthenes</td>\n",
       "      <td>[εἶπεν γὰρ ὡς ὁ πάππος ὤφειλε τῷ δημοσίῳ, καὶ ...</td>\n",
       "    </tr>\n",
       "    <tr>\n",
       "      <th>767</th>\n",
       "      <td>./data/tlg0014/tlg010/tlg0014.tlg010.perseus-g...</td>\n",
       "      <td>κατὰ Φιλίππου δ΄</td>\n",
       "      <td>Demosthenes</td>\n",
       "      <td>[οὐκ ὀλίγων δʼ ὄντων\\n\\t\\t\\t\\t\\tἁμαρτημάτων οὐ...</td>\n",
       "    </tr>\n",
       "  </tbody>\n",
       "</table>\n",
       "<p>766 rows × 4 columns</p>\n",
       "</div>"
      ],
      "text/plain": [
       "                                              filename  \\\n",
       "0    ./data/tlg0057/tlg010/tlg0057.tlg010.perseus-g...   \n",
       "1    ./data/tlg0059/tlg009/tlg0059.tlg009.perseus-g...   \n",
       "2    ./data/tlg0059/tlg036/tlg0059.tlg036.perseus-g...   \n",
       "3    ./data/tlg0059/tlg031/tlg0059.tlg031.perseus-g...   \n",
       "4    ./data/tlg0059/tlg007/tlg0059.tlg007.perseus-g...   \n",
       "..                                                 ...   \n",
       "763  ./data/tlg0014/tlg019/tlg0014.tlg019.perseus-g...   \n",
       "764  ./data/tlg0014/tlg021/tlg0014.tlg021.perseus-g...   \n",
       "765  ./data/tlg0014/tlg017/tlg0014.tlg017.perseus-g...   \n",
       "766  ./data/tlg0014/tlg028/tlg0014.tlg028.perseus-g...   \n",
       "767  ./data/tlg0014/tlg010/tlg0014.tlg010.perseus-g...   \n",
       "\n",
       "                                 title       author  \\\n",
       "0            On the Natural Faculties.        Galen   \n",
       "1                           Parmenides        Plato   \n",
       "2                             Epistles        Plato   \n",
       "3                              Timaeus        Plato   \n",
       "4                              Sophist        Plato   \n",
       "..                                 ...          ...   \n",
       "763             περὶ τῆς παραπρεσβείας  Demosthenes   \n",
       "764     κατὰ Μειδίου περὶ τοῦ Κονδύλου  Demosthenes   \n",
       "765  περὶ τῶν πρὸς Ἀλέξανδρον συνθηκῶν  Demosthenes   \n",
       "766                     κατὰ Ἀφόβου β΄  Demosthenes   \n",
       "767                   κατὰ Φιλίππου δ΄  Demosthenes   \n",
       "\n",
       "                                             text_list  \n",
       "0    [εἰ δέ τις καὶ τοῖς \\nφυτοῖς ψυχῆς μεταδίδωσι ...  \n",
       "1    [ἀλλὰ μὲν δή, εἶπον ἐγώ, πάρειμί γε ἐπʼ αὐτὸ τ...  \n",
       "2    [, διατρίψας ἐγὼ παρʼ ὑμῖν χρόνον τοσοῦτον καὶ...  \n",
       "3    [εἷς, δύο, τρεῖς· ὁ δὲ δὴ τέταρτος ἡμῖν, ὦ φίλ...  \n",
       "4    [κατὰ τὴν χθὲς ὁμολογίαν, ὦ Σώκρατες, ἥκομεν α...  \n",
       "..                                                 ...  \n",
       "763  [δεήσομαι δὲ πάντων ὑμῶν, ἃ καὶ τοῖς μὴ δεηθεῖ...  \n",
       "764  [ἐγὼ δʼ, ὅπερ ἂν καὶ ὑμῶν ἕκαστος ὑβρισθεὶς πρ...  \n",
       "765  [δεῖ\\n\\t\\t\\t\\t\\tτοίνυν τοὺς λίαν ἐπʼ αὐτὰ παρα...  \n",
       "766  [εἶπεν γὰρ ὡς ὁ πάππος ὤφειλε τῷ δημοσίῳ, καὶ ...  \n",
       "767  [οὐκ ὀλίγων δʼ ὄντων\\n\\t\\t\\t\\t\\tἁμαρτημάτων οὐ...  \n",
       "\n",
       "[766 rows x 4 columns]"
      ]
     },
     "execution_count": 104,
     "metadata": {},
     "output_type": "execute_result"
    }
   ],
   "source": [
    "g"
   ]
  },
  {
   "cell_type": "markdown",
   "metadata": {},
   "source": [
    "# Doc2Vec"
   ]
  },
  {
   "cell_type": "code",
   "execution_count": 105,
   "metadata": {},
   "outputs": [],
   "source": [
    "#from: https://radimrehurek.com/gensim/auto_examples/tutorials/run_doc2vec_lee.html\n",
    "def read_corpus(text_lists,tokens_only=False):\n",
    "  for i, text_list in enumerate(text_lists):\n",
    "    text = ' '.join(text_list)\n",
    "    tokens = gensim.utils.simple_preprocess(text)\n",
    "    if tokens_only:\n",
    "      yield tokens\n",
    "    else:\n",
    "      yield gensim.models.doc2vec.TaggedDocument(tokens, [i])"
   ]
  },
  {
   "cell_type": "code",
   "execution_count": 111,
   "metadata": {},
   "outputs": [],
   "source": [
    "corpus = list(read_corpus(g.text_list.to_list()))"
   ]
  },
  {
   "cell_type": "code",
   "execution_count": 112,
   "metadata": {},
   "outputs": [],
   "source": [
    "model = gensim.models.doc2vec.Doc2Vec(vector_size=100, min_count=2, window=10, epochs=40)"
   ]
  },
  {
   "cell_type": "code",
   "execution_count": 113,
   "metadata": {},
   "outputs": [],
   "source": [
    "model.build_vocab(corpus)"
   ]
  },
  {
   "cell_type": "code",
   "execution_count": 114,
   "metadata": {},
   "outputs": [
    {
     "data": {
      "text/plain": [
       "66"
      ]
     },
     "execution_count": 114,
     "metadata": {},
     "output_type": "execute_result"
    }
   ],
   "source": [
    "model.wv.get_vecattr('ἀγαθοί','count')"
   ]
  },
  {
   "cell_type": "code",
   "execution_count": 116,
   "metadata": {},
   "outputs": [],
   "source": [
    "model.train(corpus, total_examples=model.corpus_count, epochs=model.epochs)"
   ]
  },
  {
   "cell_type": "code",
   "execution_count": 117,
   "metadata": {},
   "outputs": [],
   "source": [
    "vec_list = np.asarray([model.dv.get_vector(d) for d in model.dv.index_to_key])\n",
    "_tsne = tsne.fit_transform(vec_list)"
   ]
  },
  {
   "cell_type": "code",
   "execution_count": 128,
   "metadata": {},
   "outputs": [
    {
     "data": {
      "application/vnd.plotly.v1+json": {
       "config": {
        "plotlyServerURL": "https://plot.ly"
       },
       "data": [
        {
         "customdata": [
          [
           "On the Natural Faculties."
          ]
         ],
         "hovertemplate": "author=Galen<br>x=%{x}<br>y=%{y}<br>title=%{customdata[0]}<extra></extra>",
         "legendgroup": "Galen",
         "marker": {
          "color": "#636efa",
          "symbol": "circle"
         },
         "mode": "markers",
         "name": "Galen",
         "orientation": "v",
         "showlegend": true,
         "type": "scatter",
         "x": [
          -1.086040735244751
         ],
         "xaxis": "x",
         "y": [
          -6.197991371154785
         ],
         "yaxis": "y"
        },
        {
         "customdata": [
          [
           "Parmenides"
          ],
          [
           "Epistles"
          ],
          [
           "Timaeus"
          ],
          [
           "Sophist"
          ],
          [
           "Euthyphro"
          ],
          [
           "Theaetetus"
          ],
          [
           "Republic"
          ],
          [
           "Statesman"
          ],
          [
           "Hipparchus"
          ],
          [
           "Phaedrus"
          ],
          [
           "Meno"
          ],
          [
           "Gorgias"
          ],
          [
           "Protagoras "
          ],
          [
           "Hippias Major"
          ],
          [
           "Alcibiades 1"
          ],
          [
           "Alcibiades 2"
          ],
          [
           "Critias"
          ],
          [
           "Epinomis"
          ],
          [
           "Crito"
          ],
          [
           "Phaedo"
          ],
          [
           "Cratylus"
          ],
          [
           "Apology"
          ],
          [
           "Laws"
          ],
          [
           "Minos"
          ],
          [
           "Symposium"
          ],
          [
           "Lovers"
          ],
          [
           "Cleitophon"
          ],
          [
           "Lysis"
          ],
          [
           "Ion"
          ],
          [
           "Charmides "
          ],
          [
           "Hippias Minor"
          ],
          [
           "Laches"
          ],
          [
           "Euthydemus "
          ],
          [
           "Theages"
          ],
          [
           "Menexenus"
          ],
          [
           "Philebus"
          ]
         ],
         "hovertemplate": "author=Plato<br>x=%{x}<br>y=%{y}<br>title=%{customdata[0]}<extra></extra>",
         "legendgroup": "Plato",
         "marker": {
          "color": "#EF553B",
          "symbol": "circle"
         },
         "mode": "markers",
         "name": "Plato",
         "orientation": "v",
         "showlegend": true,
         "type": "scatter",
         "x": [
          -7.628523349761963,
          5.849429607391357,
          4.709306240081787,
          6.5274176597595215,
          -6.044265270233154,
          -7.154586315155029,
          -6.096035480499268,
          6.678808689117432,
          -5.2030930519104,
          -5.833446502685547,
          -3.9083971977233887,
          -4.901956558227539,
          -4.5371575355529785,
          -11.461446762084961,
          -3.037066698074341,
          -4.4385528564453125,
          4.15358829498291,
          5.509730339050293,
          -3.6114001274108887,
          -7.261636257171631,
          -3.877890110015869,
          22.73520278930664,
          5.758894443511963,
          -4.168162822723389,
          -4.5027971267700195,
          -4.365940570831299,
          -3.0613112449645996,
          -6.5852837562561035,
          -4.94118595123291,
          -2.956899404525757,
          -4.916910648345947,
          -3.066573143005371,
          -5.214801788330078,
          -3.9112548828125,
          13.253012657165527,
          5.971701622009277
         ],
         "xaxis": "x",
         "y": [
          13.127632141113281,
          -3.839796304702759,
          -4.384042263031006,
          -5.767210483551025,
          13.381223678588867,
          13.290395736694336,
          15.440818786621094,
          -5.83952522277832,
          12.840495109558105,
          0.7903060913085938,
          13.422119140625,
          13.700359344482422,
          16.351919174194336,
          7.8387064933776855,
          13.408032417297363,
          4.258185386657715,
          -3.201991558074951,
          -4.607382297515869,
          14.968247413635254,
          16.25509262084961,
          -0.13778828084468842,
          15.280998229980469,
          -5.025248050689697,
          0.9157658815383911,
          16.699983596801758,
          1.9492355585098267,
          2.1355791091918945,
          16.093162536621094,
          2.6132307052612305,
          2.2486581802368164,
          2.887826681137085,
          13.95102310180664,
          16.298513412475586,
          14.513882637023926,
          -3.767183303833008,
          -5.321465969085693
         ],
         "yaxis": "y"
        },
        {
         "customdata": [
          [
           "Agesilaus"
          ],
          [
           "Cyropaedia"
          ],
          [
           "Hellenica"
          ],
          [
           "Anabasis"
          ],
          [
           "Hiero"
          ],
          [
           "On the Cavalry Commander"
          ],
          [
           "On the Art of Horsemanship"
          ],
          [
           "On Hunting"
          ],
          [
           "Economics"
          ],
          [
           "Symposium"
          ],
          [
           "Apology"
          ],
          [
           "Memorabilia"
          ],
          [
           "Ways and Means"
          ],
          [
           "Constitution of the Lacedaemonians"
          ]
         ],
         "hovertemplate": "author=Xenophon<br>x=%{x}<br>y=%{y}<br>title=%{customdata[0]}<extra></extra>",
         "legendgroup": "Xenophon",
         "marker": {
          "color": "#00cc96",
          "symbol": "circle"
         },
         "mode": "markers",
         "name": "Xenophon",
         "orientation": "v",
         "showlegend": true,
         "type": "scatter",
         "x": [
          8.23896598815918,
          -1.0273802280426025,
          8.690499305725098,
          -0.6397588849067688,
          -1.25417160987854,
          -2.2442739009857178,
          -3.2103943824768066,
          -3.3308794498443604,
          -1.3880623579025269,
          -1.9884254932403564,
          0.3140900135040283,
          -1.6947344541549683,
          0.6080031991004944,
          -0.9611570835113525
         ],
         "xaxis": "x",
         "y": [
          11.90235424041748,
          9.128418922424316,
          11.698467254638672,
          9.838525772094727,
          6.426541805267334,
          8.645421028137207,
          8.59434700012207,
          8.340871810913086,
          6.955142498016357,
          5.401222229003906,
          3.796250343322754,
          5.604988098144531,
          6.025899887084961,
          7.804974555969238
         ],
         "yaxis": "y"
        },
        {
         "customdata": [
          [
           "Eros Drapeta"
          ],
          [
           "Epitaphius Bios"
          ],
          [
           "Megara"
          ],
          [
           "Fragmenta"
          ],
          [
           "Europa"
          ]
         ],
         "hovertemplate": "author=Moschus<br>x=%{x}<br>y=%{y}<br>title=%{customdata[0]}<extra></extra>",
         "legendgroup": "Moschus",
         "marker": {
          "color": "#ab63fa",
          "symbol": "circle"
         },
         "mode": "markers",
         "name": "Moschus",
         "orientation": "v",
         "showlegend": true,
         "type": "scatter",
         "x": [
          -7.0931830406188965,
          -8.503297805786133,
          -8.26403522491455,
          -7.1477203369140625,
          -8.69746208190918
         ],
         "xaxis": "x",
         "y": [
          -9.628843307495117,
          -13.169782638549805,
          -15.650808334350586,
          -9.471343040466309,
          -15.659124374389648
         ],
         "yaxis": "y"
        },
        {
         "customdata": [
          [
           "Narrationes Amatoriae"
          ]
         ],
         "hovertemplate": "author=Parthenius<br>x=%{x}<br>y=%{y}<br>title=%{customdata[0]}<extra></extra>",
         "legendgroup": "Parthenius",
         "marker": {
          "color": "#FFA15A",
          "symbol": "circle"
         },
         "mode": "markers",
         "name": "Parthenius",
         "orientation": "v",
         "showlegend": true,
         "type": "scatter",
         "x": [
          -4.827897071838379
         ],
         "xaxis": "x",
         "y": [
          -10.116454124450684
         ],
         "yaxis": "y"
        },
        {
         "customdata": [
          [
           "The Peloponnesian War"
          ]
         ],
         "hovertemplate": "author=Thucydides<br>x=%{x}<br>y=%{y}<br>title=%{customdata[0]}<extra></extra>",
         "legendgroup": "Thucydides",
         "marker": {
          "color": "#19d3f3",
          "symbol": "circle"
         },
         "mode": "markers",
         "name": "Thucydides",
         "orientation": "v",
         "showlegend": true,
         "type": "scatter",
         "x": [
          16.016340255737305
         ],
         "xaxis": "x",
         "y": [
          20.120954513549805
         ],
         "yaxis": "y"
        },
        {
         "customdata": [
          [
           "Βίοι καὶ γνῶμαι τῶν ἐν φιλοσοφίᾳ εὐδοκιμησάντων"
          ]
         ],
         "hovertemplate": "author=Diogenes Laertius<br>x=%{x}<br>y=%{y}<br>title=%{customdata[0]}<extra></extra>",
         "legendgroup": "Diogenes Laertius",
         "marker": {
          "color": "#FF6692",
          "symbol": "circle"
         },
         "mode": "markers",
         "name": "Diogenes Laertius",
         "orientation": "v",
         "showlegend": true,
         "type": "scatter",
         "x": [
          2.126631736755371
         ],
         "xaxis": "x",
         "y": [
          7.271742820739746
         ],
         "yaxis": "y"
        },
        {
         "customdata": [
          [
           "Imagines"
          ]
         ],
         "hovertemplate": "author=Philostratus Minor<br>x=%{x}<br>y=%{y}<br>title=%{customdata[0]}<extra></extra>",
         "legendgroup": "Philostratus Minor",
         "marker": {
          "color": "#B6E880",
          "symbol": "circle"
         },
         "mode": "markers",
         "name": "Philostratus Minor",
         "orientation": "v",
         "showlegend": true,
         "type": "scatter",
         "x": [
          -17.909265518188477
         ],
         "xaxis": "x",
         "y": [
          -1.1529227495193481
         ],
         "yaxis": "y"
        },
        {
         "customdata": [
          [
           "Περὶ τοῦ πῶς χρὴ πολιορκουμένους ἀντέχειν"
          ]
         ],
         "hovertemplate": "author=Aeneas Tacticus<br>x=%{x}<br>y=%{y}<br>title=%{customdata[0]}<extra></extra>",
         "legendgroup": "Aeneas Tacticus",
         "marker": {
          "color": "#FF97FF",
          "symbol": "circle"
         },
         "mode": "markers",
         "name": "Aeneas Tacticus",
         "orientation": "v",
         "showlegend": true,
         "type": "scatter",
         "x": [
          -2.200882911682129
         ],
         "xaxis": "x",
         "y": [
          9.915974617004395
         ],
         "yaxis": "y"
        },
        {
         "customdata": [
          [
           "Characters"
          ]
         ],
         "hovertemplate": "author=Theophrastus<br>x=%{x}<br>y=%{y}<br>title=%{customdata[0]}<extra></extra>",
         "legendgroup": "Theophrastus",
         "marker": {
          "color": "#FECB52",
          "symbol": "circle"
         },
         "mode": "markers",
         "name": "Theophrastus",
         "orientation": "v",
         "showlegend": true,
         "type": "scatter",
         "x": [
          25.88387107849121
         ],
         "xaxis": "x",
         "y": [
          14.231505393981934
         ],
         "yaxis": "y"
        },
        {
         "customdata": [
          [
           "Placita Philosophorum"
          ],
          [
           "De musica"
          ]
         ],
         "hovertemplate": "author=Pseudo-Plutarch<br>x=%{x}<br>y=%{y}<br>title=%{customdata[0]}<extra></extra>",
         "legendgroup": "Pseudo-Plutarch",
         "marker": {
          "color": "#636efa",
          "symbol": "circle"
         },
         "mode": "markers",
         "name": "Pseudo-Plutarch",
         "orientation": "v",
         "showlegend": true,
         "type": "scatter",
         "x": [
          0.1970525085926056,
          -0.6457712650299072
         ],
         "xaxis": "x",
         "y": [
          -6.892350673675537,
          -4.1959028244018555
         ],
         "yaxis": "y"
        },
        {
         "customdata": [
          [
           "Bibliotheca Historica, Books XVIII-XX"
          ],
          [
           "Bibliotheca Historica, Books I-V"
          ]
         ],
         "hovertemplate": "author=Diodorus Siculus<br>x=%{x}<br>y=%{y}<br>title=%{customdata[0]}<extra></extra>",
         "legendgroup": "Diodorus Siculus",
         "marker": {
          "color": "#EF553B",
          "symbol": "circle"
         },
         "mode": "markers",
         "name": "Diodorus Siculus",
         "orientation": "v",
         "showlegend": true,
         "type": "scatter",
         "x": [
          11.37167739868164,
          7.687970161437988
         ],
         "xaxis": "x",
         "y": [
          8.167951583862305,
          0.11060529202222824
         ],
         "yaxis": "y"
        },
        {
         "customdata": [
          [
           "Lexicon in decem oratores Atticos"
          ]
         ],
         "hovertemplate": "author=Harpocration, Valerius<br>x=%{x}<br>y=%{y}<br>title=%{customdata[0]}<extra></extra>",
         "legendgroup": "Harpocration, Valerius",
         "marker": {
          "color": "#00cc96",
          "symbol": "circle"
         },
         "mode": "markers",
         "name": "Harpocration, Valerius",
         "orientation": "v",
         "showlegend": true,
         "type": "scatter",
         "x": [
          18.2437801361084
         ],
         "xaxis": "x",
         "y": [
          15.7455472946167
         ],
         "yaxis": "y"
        },
        {
         "customdata": [
          [
           "De Gymnastica"
          ],
          [
           "Vita Apollonii"
          ],
          [
           "Epistulae et dialexeis"
          ],
          [
           "Vitae Sophistarum"
          ],
          [
           "Heroicus"
          ],
          [
           "Nero"
          ]
         ],
         "hovertemplate": "author=Philostratus the Athenian<br>x=%{x}<br>y=%{y}<br>title=%{customdata[0]}<extra></extra>",
         "legendgroup": "Philostratus the Athenian",
         "marker": {
          "color": "#ab63fa",
          "symbol": "circle"
         },
         "mode": "markers",
         "name": "Philostratus the Athenian",
         "orientation": "v",
         "showlegend": true,
         "type": "scatter",
         "x": [
          -8.944852828979492,
          -21.64951515197754,
          -16.53269386291504,
          -9.218775749206543,
          -21.650775909423828,
          -2.751504898071289
         ],
         "xaxis": "x",
         "y": [
          7.32303524017334,
          -9.299432754516602,
          0.6800451874732971,
          7.390519618988037,
          -9.294593811035156,
          -2.094287157058716
         ],
         "yaxis": "y"
        },
        {
         "customdata": [
          [
           "Idylls "
          ],
          [
           "Epigrams "
          ]
         ],
         "hovertemplate": "author=Theocritus<br>x=%{x}<br>y=%{y}<br>title=%{customdata[0]}<extra></extra>",
         "legendgroup": "Theocritus",
         "marker": {
          "color": "#FFA15A",
          "symbol": "circle"
         },
         "mode": "markers",
         "name": "Theocritus",
         "orientation": "v",
         "showlegend": true,
         "type": "scatter",
         "x": [
          -9.358174324035645,
          -8.04439926147461
         ],
         "xaxis": "x",
         "y": [
          -12.956780433654785,
          -15.874382972717285
         ],
         "yaxis": "y"
        },
        {
         "customdata": [
          [
           "Phaenomena"
          ]
         ],
         "hovertemplate": "author=Aratus Solensis<br>x=%{x}<br>y=%{y}<br>title=%{customdata[0]}<extra></extra>",
         "legendgroup": "Aratus Solensis",
         "marker": {
          "color": "#19d3f3",
          "symbol": "circle"
         },
         "mode": "markers",
         "name": "Aratus Solensis",
         "orientation": "v",
         "showlegend": true,
         "type": "scatter",
         "x": [
          -11.395323753356934
         ],
         "xaxis": "x",
         "y": [
          -17.12701988220215
         ],
         "yaxis": "y"
        },
        {
         "customdata": [
          [
           "Against Leocrates "
          ]
         ],
         "hovertemplate": "author=Lycurgus<br>x=%{x}<br>y=%{y}<br>title=%{customdata[0]}<extra></extra>",
         "legendgroup": "Lycurgus",
         "marker": {
          "color": "#FF6692",
          "symbol": "circle"
         },
         "mode": "markers",
         "name": "Lycurgus",
         "orientation": "v",
         "showlegend": true,
         "type": "scatter",
         "x": [
          23.082422256469727
         ],
         "xaxis": "x",
         "y": [
          0.598127007484436
         ],
         "yaxis": "y"
        },
        {
         "customdata": [
          [
           "Ὀλυμπιονῖκαι"
          ],
          [
           "Νεμεονῖκαι"
          ],
          [
           "Ἰσθμιονῖκαι"
          ],
          [
           "Πυθιονῖκαι"
          ]
         ],
         "hovertemplate": "author=Pindar<br>x=%{x}<br>y=%{y}<br>title=%{customdata[0]}<extra></extra>",
         "legendgroup": "Pindar",
         "marker": {
          "color": "#B6E880",
          "symbol": "circle"
         },
         "mode": "markers",
         "name": "Pindar",
         "orientation": "v",
         "showlegend": true,
         "type": "scatter",
         "x": [
          -3.8349335193634033,
          -3.894740104675293,
          -4.055958271026611,
          -3.863534927368164
         ],
         "xaxis": "x",
         "y": [
          -19.657251358032227,
          -19.55714225769043,
          -19.330183029174805,
          -19.631061553955078
         ],
         "yaxis": "y"
        },
        {
         "customdata": [
          [
           "Ἑλλάδος Περιηγήσεως"
          ]
         ],
         "hovertemplate": "author=Pausanias<br>x=%{x}<br>y=%{y}<br>title=%{customdata[0]}<extra></extra>",
         "legendgroup": "Pausanias",
         "marker": {
          "color": "#FF97FF",
          "symbol": "circle"
         },
         "mode": "markers",
         "name": "Pausanias",
         "orientation": "v",
         "showlegend": true,
         "type": "scatter",
         "x": [
          -9.922883987426758
         ],
         "xaxis": "x",
         "y": [
          10.237434387207031
         ],
         "yaxis": "y"
        },
        {
         "customdata": [
          [
           "Epistulae"
          ],
          [
           "To Young Men, On How They Might Dervice Profit From Pagan Literature"
          ]
         ],
         "hovertemplate": "author=Basil, Saint, Bishop of Caesarea<br>x=%{x}<br>y=%{y}<br>title=%{customdata[0]}<extra></extra>",
         "legendgroup": "Basil, Saint, Bishop of Caesarea",
         "marker": {
          "color": "#FECB52",
          "symbol": "circle"
         },
         "mode": "markers",
         "name": "Basil, Saint, Bishop of Caesarea",
         "orientation": "v",
         "showlegend": true,
         "type": "scatter",
         "x": [
          -14.223379135131836,
          -4.25651216506958
         ],
         "xaxis": "x",
         "y": [
          -13.164310455322266,
          -14.059578895568848
         ],
         "yaxis": "y"
        },
        {
         "customdata": [
          [
           "De causis et signis acutorum morborum "
          ],
          [
           "De curatione acutorum morborum "
          ],
          [
           "De curatione diuturnorum morborum "
          ]
         ],
         "hovertemplate": "author=Aretaeus<br>x=%{x}<br>y=%{y}<br>title=%{customdata[0]}<extra></extra>",
         "legendgroup": "Aretaeus",
         "marker": {
          "color": "#636efa",
          "symbol": "circle"
         },
         "mode": "markers",
         "name": "Aretaeus",
         "orientation": "v",
         "showlegend": true,
         "type": "scatter",
         "x": [
          -13.863682746887207,
          -14.915329933166504,
          -14.912199974060059
         ],
         "xaxis": "x",
         "y": [
          16.58014678955078,
          17.123701095581055,
          17.12088394165039
         ],
         "yaxis": "y"
        },
        {
         "customdata": [
          [
           "Περὶ αἰτίων καὶ σημείων χρονίων παθῶν"
          ]
         ],
         "hovertemplate": "author=Aretaeus of Cappadocia<br>x=%{x}<br>y=%{y}<br>title=%{customdata[0]}<extra></extra>",
         "legendgroup": "Aretaeus of Cappadocia",
         "marker": {
          "color": "#EF553B",
          "symbol": "circle"
         },
         "mode": "markers",
         "name": "Aretaeus of Cappadocia",
         "orientation": "v",
         "showlegend": true,
         "type": "scatter",
         "x": [
          -13.907815933227539
         ],
         "xaxis": "x",
         "y": [
          16.61709976196289
         ],
         "yaxis": "y"
        },
        {
         "customdata": [
          [
           "Imagines"
          ]
         ],
         "hovertemplate": "author=Philostratus the Lemnian (Philostratus Major)<br>x=%{x}<br>y=%{y}<br>title=%{customdata[0]}<extra></extra>",
         "legendgroup": "Philostratus the Lemnian (Philostratus Major)",
         "marker": {
          "color": "#00cc96",
          "symbol": "circle"
         },
         "mode": "markers",
         "name": "Philostratus the Lemnian (Philostratus Major)",
         "orientation": "v",
         "showlegend": true,
         "type": "scatter",
         "x": [
          -17.954713821411133
         ],
         "xaxis": "x",
         "y": [
          -1.158433198928833
         ],
         "yaxis": "y"
        },
        {
         "customdata": [
          [
           "For The Soldier"
          ],
          [
           "Against Philon"
          ],
          [
           "Defense in the Matter of the Olive Stump"
          ],
          [
           "On the Murder of Eratosthenes"
          ],
          [
           "Against Andocides"
          ],
          [
           "Against Nicomachus"
          ],
          [
           "Accusation of Calumny"
          ],
          [
           "Against Alcibiades 2"
          ],
          [
           "Against Eratosthenes"
          ],
          [
           "On The Refusal Of A Pension"
          ],
          [
           "Against Pancleon"
          ],
          [
           "Against The Corn-Dealers"
          ],
          [
           "Defense Against a Charge of Subverting the Democracy"
          ],
          [
           "Against Agoratus"
          ],
          [
           "Against Alcibiades 1"
          ],
          [
           "Against Diogeiton"
          ],
          [
           "Against Simon"
          ],
          [
           "On A Wound By Premeditation"
          ],
          [
           "For Callias"
          ],
          [
           "Funeral Oration"
          ],
          [
           "Against The Subversion of the Ancestral Constitution"
          ],
          [
           "Olympic Oration"
          ],
          [
           "Against Theomnestus 2"
          ],
          [
           "In Defense of Mantitheus"
          ],
          [
           "Against Philocrates"
          ],
          [
           "For Polystratus"
          ],
          [
           "Against Epicrates and his Fellow-envoys"
          ],
          [
           "On the Confiscation of the Property Of The Brother Of Nicias"
          ],
          [
           "On the Scrutiny of Evandros"
          ],
          [
           "On the Property of Aristophanes"
          ],
          [
           "Defense Against A Charge Of Taking Bribes"
          ],
          [
           "On The Property Of Eraton"
          ],
          [
           "Against Ergocles"
          ],
          [
           "Against Theomnestus 1"
          ]
         ],
         "hovertemplate": "author=Lysias<br>x=%{x}<br>y=%{y}<br>title=%{customdata[0]}<extra></extra>",
         "legendgroup": "Lysias",
         "marker": {
          "color": "#ab63fa",
          "symbol": "circle"
         },
         "mode": "markers",
         "name": "Lysias",
         "orientation": "v",
         "showlegend": true,
         "type": "scatter",
         "x": [
          20.33148956298828,
          21.628305435180664,
          21.399459838867188,
          20.123788833618164,
          23.14168930053711,
          22.350704193115234,
          20.235401153564453,
          17.207521438598633,
          22.619049072265625,
          20.7402286529541,
          20.137981414794922,
          19.417945861816406,
          21.221084594726562,
          23.004674911499023,
          21.045143127441406,
          22.10292625427246,
          19.709575653076172,
          16.924165725708008,
          -6.291602611541748,
          14.552592277526855,
          3.2723724842071533,
          5.55837869644165,
          17.80356788635254,
          18.970579147338867,
          16.62395477294922,
          22.25452995300293,
          17.79325294494629,
          18.191787719726562,
          19.51190757751465,
          22.377920150756836,
          19.583663940429688,
          19.03527069091797,
          17.82807731628418,
          20.927812576293945
         ],
         "xaxis": "x",
         "y": [
          4.177587985992432,
          3.2393381595611572,
          3.5680150985717773,
          7.408280849456787,
          2.9703545570373535,
          2.342761754989624,
          4.991480827331543,
          3.739798069000244,
          3.6744096279144287,
          3.318838357925415,
          8.01540470123291,
          3.4976272583007812,
          2.727118968963623,
          4.584436416625977,
          1.592543125152588,
          7.770743370056152,
          6.869866847991943,
          5.815030097961426,
          -2.2615292072296143,
          -3.4396536350250244,
          1.7525309324264526,
          1.141980767250061,
          4.781137943267822,
          3.3870930671691895,
          5.402195453643799,
          4.959575653076172,
          2.974229335784912,
          2.346769332885742,
          2.241316556930542,
          6.74259090423584,
          4.22125768661499,
          8.311697959899902,
          2.554471731185913,
          5.7152910232543945
         ],
         "yaxis": "y"
        },
        {
         "customdata": [
          [
           "Fall of Troy"
          ]
         ],
         "hovertemplate": "author=Quintus Smyrnaeus<br>x=%{x}<br>y=%{y}<br>title=%{customdata[0]}<extra></extra>",
         "legendgroup": "Quintus Smyrnaeus",
         "marker": {
          "color": "#FFA15A",
          "symbol": "circle"
         },
         "mode": "markers",
         "name": "Quintus Smyrnaeus",
         "orientation": "v",
         "showlegend": true,
         "type": "scatter",
         "x": [
          -9.77143669128418
         ],
         "xaxis": "x",
         "y": [
          -16.884180068969727
         ],
         "yaxis": "y"
        },
        {
         "customdata": [
          [
           "Library "
          ],
          [
           "Epitome "
          ]
         ],
         "hovertemplate": "author=Apollodorus<br>x=%{x}<br>y=%{y}<br>title=%{customdata[0]}<extra></extra>",
         "legendgroup": "Apollodorus",
         "marker": {
          "color": "#19d3f3",
          "symbol": "circle"
         },
         "mode": "markers",
         "name": "Apollodorus",
         "orientation": "v",
         "showlegend": true,
         "type": "scatter",
         "x": [
          14.802080154418945,
          14.748627662658691
         ],
         "xaxis": "x",
         "y": [
          -13.444945335388184,
          -13.411979675292969
         ],
         "yaxis": "y"
        },
        {
         "customdata": [
          [
           "Protrepticus"
          ],
          [
           "Quis Dis Salvetur"
          ],
          [
           "Exhortation to Endurance, or to the Newly Baptized"
          ],
          [
           "Stromata (Books I-VI)"
          ]
         ],
         "hovertemplate": "author=Clement of Alexandria<br>x=%{x}<br>y=%{y}<br>title=%{customdata[0]}<extra></extra>",
         "legendgroup": "Clement of Alexandria",
         "marker": {
          "color": "#FF6692",
          "symbol": "circle"
         },
         "mode": "markers",
         "name": "Clement of Alexandria",
         "orientation": "v",
         "showlegend": true,
         "type": "scatter",
         "x": [
          -12.273602485656738,
          -15.205561637878418,
          -28.82985496520996,
          -17.23802947998047
         ],
         "xaxis": "x",
         "y": [
          -12.380267143249512,
          -13.28124713897705,
          -9.929902076721191,
          -12.549546241760254
         ],
         "yaxis": "y"
        },
        {
         "customdata": [
          [
           "De Chaerea et Callirhoe"
          ]
         ],
         "hovertemplate": "author=Chariton<br>x=%{x}<br>y=%{y}<br>title=%{customdata[0]}<extra></extra>",
         "legendgroup": "Chariton",
         "marker": {
          "color": "#B6E880",
          "symbol": "circle"
         },
         "mode": "markers",
         "name": "Chariton",
         "orientation": "v",
         "showlegend": true,
         "type": "scatter",
         "x": [
          -20.44466209411621
         ],
         "xaxis": "x",
         "y": [
          1.1240184307098389
         ],
         "yaxis": "y"
        },
        {
         "customdata": [
          [
           "Ad Se Ipsum"
          ]
         ],
         "hovertemplate": "author=Marcus Aurelius<br>x=%{x}<br>y=%{y}<br>title=%{customdata[0]}<extra></extra>",
         "legendgroup": "Marcus Aurelius",
         "marker": {
          "color": "#FF97FF",
          "symbol": "circle"
         },
         "mode": "markers",
         "name": "Marcus Aurelius",
         "orientation": "v",
         "showlegend": true,
         "type": "scatter",
         "x": [
          -0.9718706011772156
         ],
         "xaxis": "x",
         "y": [
          -15.556200981140137
         ],
         "yaxis": "y"
        },
        {
         "customdata": [
          [
           "Odes (Greek) - Ep"
          ],
          [
           "Odes (Greek) - Dith"
          ]
         ],
         "hovertemplate": "author=Bacchylides<br>x=%{x}<br>y=%{y}<br>title=%{customdata[0]}<extra></extra>",
         "legendgroup": "Bacchylides",
         "marker": {
          "color": "#FECB52",
          "symbol": "circle"
         },
         "mode": "markers",
         "name": "Bacchylides",
         "orientation": "v",
         "showlegend": true,
         "type": "scatter",
         "x": [
          -4.306686878204346,
          -5.8386921882629395
         ],
         "xaxis": "x",
         "y": [
          -18.976675033569336,
          -16.485864639282227
         ],
         "yaxis": "y"
        },
        {
         "customdata": [
          [
           "Oedipus at Colonus"
          ],
          [
           "Trachiniae"
          ],
          [
           "Philoctetes"
          ],
          [
           "Ichneutae"
          ],
          [
           "Ajax"
          ],
          [
           "Oedipus Tyrannus"
          ],
          [
           "Electra"
          ],
          [
           "Antigone"
          ]
         ],
         "hovertemplate": "author=Sophocles<br>x=%{x}<br>y=%{y}<br>title=%{customdata[0]}<extra></extra>",
         "legendgroup": "Sophocles",
         "marker": {
          "color": "#636efa",
          "symbol": "circle"
         },
         "mode": "markers",
         "name": "Sophocles",
         "orientation": "v",
         "showlegend": true,
         "type": "scatter",
         "x": [
          -0.3242971897125244,
          -0.9609230160713196,
          0.17317205667495728,
          -5.427823543548584,
          -0.17858025431632996,
          -0.6349390745162964,
          -0.9752483367919922,
          -0.7882277965545654
         ],
         "xaxis": "x",
         "y": [
          -28.01233673095703,
          -28.02768325805664,
          -28.173858642578125,
          -16.181659698486328,
          -27.765207290649414,
          -27.994503021240234,
          -27.803909301757812,
          -27.308929443359375
         ],
         "yaxis": "y"
        },
        {
         "customdata": [
          [
           "The Taking of Ilios"
          ]
         ],
         "hovertemplate": "author=Tryphiodorus<br>x=%{x}<br>y=%{y}<br>title=%{customdata[0]}<extra></extra>",
         "legendgroup": "Tryphiodorus",
         "marker": {
          "color": "#EF553B",
          "symbol": "circle"
         },
         "mode": "markers",
         "name": "Tryphiodorus",
         "orientation": "v",
         "showlegend": true,
         "type": "scatter",
         "x": [
          -9.621536254882812
         ],
         "xaxis": "x",
         "y": [
          -15.77675724029541
         ],
         "yaxis": "y"
        },
        {
         "customdata": [
          [
           "Against Philocles "
          ],
          [
           "Against Demosthenes "
          ],
          [
           "Against Aristogiton "
          ]
         ],
         "hovertemplate": "author=Dinarchus<br>x=%{x}<br>y=%{y}<br>title=%{customdata[0]}<extra></extra>",
         "legendgroup": "Dinarchus",
         "marker": {
          "color": "#00cc96",
          "symbol": "circle"
         },
         "mode": "markers",
         "name": "Dinarchus",
         "orientation": "v",
         "showlegend": true,
         "type": "scatter",
         "x": [
          23.660120010375977,
          24.4227294921875,
          23.587421417236328
         ],
         "xaxis": "x",
         "y": [
          1.1798514127731323,
          1.017590045928955,
          1.2152372598648071
         ],
         "yaxis": "y"
        },
        {
         "customdata": [
          [
           "Ἱστορίαι"
          ]
         ],
         "hovertemplate": "author=Herodotus<br>x=%{x}<br>y=%{y}<br>title=%{customdata[0]}<extra></extra>",
         "legendgroup": "Herodotus",
         "marker": {
          "color": "#ab63fa",
          "symbol": "circle"
         },
         "mode": "markers",
         "name": "Herodotus",
         "orientation": "v",
         "showlegend": true,
         "type": "scatter",
         "x": [
          -12.99909782409668
         ],
         "xaxis": "x",
         "y": [
          12.201085090637207
         ],
         "yaxis": "y"
        },
        {
         "customdata": [
          [
           "Theogony (Greek). Machine readable text"
          ],
          [
           "Shield of Heracles (Greek). Machine readable text"
          ],
          [
           "Works and Days (Greek). Machine readable text"
          ]
         ],
         "hovertemplate": "author=Hesiod<br>x=%{x}<br>y=%{y}<br>title=%{customdata[0]}<extra></extra>",
         "legendgroup": "Hesiod",
         "marker": {
          "color": "#FFA15A",
          "symbol": "circle"
         },
         "mode": "markers",
         "name": "Hesiod",
         "orientation": "v",
         "showlegend": true,
         "type": "scatter",
         "x": [
          -10.52064323425293,
          -9.370034217834473,
          -10.834678649902344
         ],
         "xaxis": "x",
         "y": [
          -18.825298309326172,
          -17.644197463989258,
          -18.00685691833496
         ],
         "yaxis": "y"
        },
        {
         "customdata": [
          [
           "On the Mysteries "
          ],
          [
           "On the Peace with Sparta\n"
          ],
          [
           "Against Alcibiades "
          ],
          [
           "On His Return "
          ]
         ],
         "hovertemplate": "author=Andocides<br>x=%{x}<br>y=%{y}<br>title=%{customdata[0]}<extra></extra>",
         "legendgroup": "Andocides",
         "marker": {
          "color": "#19d3f3",
          "symbol": "circle"
         },
         "mode": "markers",
         "name": "Andocides",
         "orientation": "v",
         "showlegend": true,
         "type": "scatter",
         "x": [
          24.902618408203125,
          20.424325942993164,
          22.291988372802734,
          24.05680274963379
         ],
         "xaxis": "x",
         "y": [
          5.823386192321777,
          -1.263315200805664,
          1.623010516166687,
          5.88301420211792
         ],
         "yaxis": "y"
        },
        {
         "customdata": [
          [
           "Anabasis"
          ],
          [
           "Acies Contra Alanos"
          ],
          [
           "Cynegeticus"
          ],
          [
           "Periplus Ponti Euxini"
          ],
          [
           "Tactica"
          ],
          [
           "Indica"
          ]
         ],
         "hovertemplate": "author=Arrian<br>x=%{x}<br>y=%{y}<br>title=%{customdata[0]}<extra></extra>",
         "legendgroup": "Arrian",
         "marker": {
          "color": "#FF6692",
          "symbol": "circle"
         },
         "mode": "markers",
         "name": "Arrian",
         "orientation": "v",
         "showlegend": true,
         "type": "scatter",
         "x": [
          -11.089266777038574,
          -7.008058547973633,
          -4.493345737457275,
          -9.887092590332031,
          -6.987979412078857,
          -11.81789779663086
         ],
         "xaxis": "x",
         "y": [
          12.090004920959473,
          7.967033863067627,
          7.741025924682617,
          9.946236610412598,
          8.883049011230469,
          11.846440315246582
         ],
         "yaxis": "y"
        },
        {
         "customdata": [
          [
           "Orationes 54 "
          ],
          [
           "Orationes 53 "
          ],
          [
           "Orationes 9 "
          ],
          [
           "Orationes 36 "
          ],
          [
           "Orationes 31 "
          ],
          [
           "Orationes 38 "
          ],
          [
           "Orationes 7 "
          ],
          [
           "Orationes 52 "
          ],
          [
           "Orationes 55 "
          ],
          [
           "Orationes 1 "
          ],
          [
           "Orationes 39 "
          ],
          [
           "Orationes 6 "
          ],
          [
           "Orationes 30 "
          ],
          [
           "Orationes 8 "
          ],
          [
           "Orationes 37 "
          ],
          [
           "Orationes 15 "
          ],
          [
           "Orationes 12 "
          ],
          [
           "Orationes 24 "
          ],
          [
           "Orationes 23 "
          ],
          [
           "Orationes 48 "
          ],
          [
           "Orationes 46 "
          ],
          [
           "Orationes 41 "
          ],
          [
           "Orationes 22 "
          ],
          [
           "Orationes 25 "
          ],
          [
           "Orationes 13 "
          ],
          [
           "Orationes 14 "
          ],
          [
           "Orationes 40 "
          ],
          [
           "Orationes 47 "
          ],
          [
           "Orationes 49 "
          ],
          [
           "Orationes 32 "
          ],
          [
           "Orationes 35 "
          ],
          [
           "Orationes 3 "
          ],
          [
           "Orationes 4 "
          ],
          [
           "Orationes 50 "
          ],
          [
           "Orationes 5 "
          ],
          [
           "Orationes 2 "
          ],
          [
           "Orationes 34 "
          ],
          [
           "Orationes 33 "
          ],
          [
           "Orationes 51 "
          ],
          [
           "Orationes 42 "
          ],
          [
           "Orationes 45 "
          ],
          [
           "Orationes 11 "
          ],
          [
           "Orationes 16 "
          ],
          [
           "Orationes 29 "
          ],
          [
           "Orationes 20 "
          ],
          [
           "Orationes 27 "
          ],
          [
           "Orationes 18 "
          ],
          [
           "Orationes 44 "
          ],
          [
           "Orationes 43 "
          ],
          [
           "Orationes 26 "
          ],
          [
           "Orationes 19 "
          ],
          [
           "Orationes 21 "
          ],
          [
           "Orationes 17 "
          ],
          [
           "Orationes 28 "
          ],
          [
           "Orationes 10 "
          ]
         ],
         "hovertemplate": "author=Aristides, Aelius<br>x=%{x}<br>y=%{y}<br>title=%{customdata[0]}<extra></extra>",
         "legendgroup": "Aristides, Aelius",
         "marker": {
          "color": "#B6E880",
          "symbol": "circle"
         },
         "mode": "markers",
         "name": "Aristides, Aelius",
         "orientation": "v",
         "showlegend": true,
         "type": "scatter",
         "x": [
          22.181995391845703,
          22.196977615356445,
          7.363529682159424,
          18.501413345336914,
          17.63796615600586,
          17.554899215698242,
          4.711578369140625,
          10.348773956298828,
          -16.440462112426758,
          -31.608793258666992,
          17.706626892089844,
          -31.333518981933594,
          16.643640518188477,
          4.163028717041016,
          18.76413345336914,
          -33.12311553955078,
          4.184856414794922,
          -21.07314682006836,
          -21.072240829467773,
          11.744647026062012,
          10.948067665100098,
          -32.4516487121582,
          3.3376717567443848,
          -21.058624267578125,
          14.063838958740234,
          13.444873809814453,
          14.868783950805664,
          -0.6409000158309937,
          0.43781688809394836,
          15.737384796142578,
          18.499853134155273,
          2.785766363143921,
          -34.438594818115234,
          0.43566280603408813,
          -32.314109802246094,
          5.6172685623168945,
          19.13102912902832,
          19.17096519470215,
          0.820679783821106,
          13.569392204284668,
          -0.06092968210577965,
          -30.571443557739258,
          12.76795482635498,
          16.558012008666992,
          -33.292335510253906,
          -21.076534271240234,
          -31.337142944335938,
          13.7584810256958,
          14.192493438720703,
          -21.174997329711914,
          -32.4083366394043,
          -31.489870071411133,
          -17.30081558227539,
          -32.10103225708008,
          -16.875242233276367
         ],
         "xaxis": "x",
         "y": [
          -8.681293487548828,
          -8.690995216369629,
          1.1505461931228638,
          -6.309449672698975,
          -6.054267883300781,
          -7.61431360244751,
          -1.192023515701294,
          1.4947428703308105,
          -4.951510906219482,
          -8.55592155456543,
          -7.409241199493408,
          -6.469405651092529,
          -5.869615077972412,
          -1.7005095481872559,
          -6.137933254241943,
          -4.339071750640869,
          0.3186429440975189,
          11.210797309875488,
          11.412130355834961,
          -6.539089679718018,
          2.1737914085388184,
          -9.242230415344238,
          -1.478555679321289,
          11.298213958740234,
          -6.123819828033447,
          -7.895812034606934,
          0.6092718243598938,
          1.0233834981918335,
          -1.5734355449676514,
          -4.222766399383545,
          -5.879856586456299,
          -2.1329758167266846,
          -10.807825088500977,
          -0.5669502019882202,
          -9.945158004760742,
          -1.668744683265686,
          -6.618159770965576,
          -6.564361095428467,
          -0.9590992331504822,
          -6.4957756996154785,
          -0.1560230404138565,
          -8.690051078796387,
          -6.676155090332031,
          -5.806269645690918,
          -9.974913597106934,
          11.513236045837402,
          -3.5304057598114014,
          -6.908906936645508,
          -7.479159355163574,
          11.876402854919434,
          -8.28336238861084,
          -7.729031562805176,
          -6.362497806549072,
          -6.734552383422852,
          -6.104007720947266
         ],
         "yaxis": "y"
        },
        {
         "customdata": [
          [
           "Ars Rhetorica"
          ]
         ],
         "hovertemplate": "author=Aristides, Aelius\n\t<br>x=%{x}<br>y=%{y}<br>title=%{customdata[0]}<extra></extra>",
         "legendgroup": "Aristides, Aelius\n\t",
         "marker": {
          "color": "#FF97FF",
          "symbol": "circle"
         },
         "mode": "markers",
         "name": "Aristides, Aelius\n\t",
         "orientation": "v",
         "showlegend": true,
         "type": "scatter",
         "x": [
          17.153114318847656
         ],
         "xaxis": "x",
         "y": [
          16.92800521850586
         ],
         "yaxis": "y"
        },
        {
         "customdata": [
          [
           "Rape of Helen"
          ]
         ],
         "hovertemplate": "author=Colluthus<br>x=%{x}<br>y=%{y}<br>title=%{customdata[0]}<extra></extra>",
         "legendgroup": "Colluthus",
         "marker": {
          "color": "#FECB52",
          "symbol": "circle"
         },
         "mode": "markers",
         "name": "Colluthus",
         "orientation": "v",
         "showlegend": true,
         "type": "scatter",
         "x": [
          -9.67744255065918
         ],
         "xaxis": "x",
         "y": [
          -15.170178413391113
         ],
         "yaxis": "y"
        },
        {
         "customdata": [
          [
           "Libro de Elocutione"
          ]
         ],
         "hovertemplate": "author=Demetrius of Phaleron (attributed author)<br>x=%{x}<br>y=%{y}<br>title=%{customdata[0]}<extra></extra>",
         "legendgroup": "Demetrius of Phaleron (attributed author)",
         "marker": {
          "color": "#636efa",
          "symbol": "circle"
         },
         "mode": "markers",
         "name": "Demetrius of Phaleron (attributed author)",
         "orientation": "v",
         "showlegend": true,
         "type": "scatter",
         "x": [
          16.566143035888672
         ],
         "xaxis": "x",
         "y": [
          18.012914657592773
         ],
         "yaxis": "y"
        },
        {
         "customdata": [
          [
           "de Bellis"
          ],
          [
           "Historia Arcana (Anecdota)"
          ]
         ],
         "hovertemplate": "author=Procopius<br>x=%{x}<br>y=%{y}<br>title=%{customdata[0]}<extra></extra>",
         "legendgroup": "Procopius",
         "marker": {
          "color": "#EF553B",
          "symbol": "circle"
         },
         "mode": "markers",
         "name": "Procopius",
         "orientation": "v",
         "showlegend": true,
         "type": "scatter",
         "x": [
          3.2681190967559814,
          3.2696728706359863
         ],
         "xaxis": "x",
         "y": [
          22.725868225097656,
          22.722963333129883
         ],
         "yaxis": "y"
        },
        {
         "customdata": [
          [
           "Frogs"
          ],
          [
           "Lysistrata"
          ],
          [
           "Acharnians"
          ],
          [
           "Birds"
          ],
          [
           "Thesmophoriazusae"
          ],
          [
           "Clouds"
          ],
          [
           "Clouds"
          ],
          [
           "Wasps"
          ],
          [
           "Peace"
          ],
          [
           "Knights"
          ],
          [
           "Plutus"
          ],
          [
           "Ecclesiazusae"
          ],
          [
           "Ecclesiazusae"
          ]
         ],
         "hovertemplate": "author=Aristophanes<br>x=%{x}<br>y=%{y}<br>title=%{customdata[0]}<extra></extra>",
         "legendgroup": "Aristophanes",
         "marker": {
          "color": "#00cc96",
          "symbol": "circle"
         },
         "mode": "markers",
         "name": "Aristophanes",
         "orientation": "v",
         "showlegend": true,
         "type": "scatter",
         "x": [
          12.597557067871094,
          11.614311218261719,
          11.342513084411621,
          10.427096366882324,
          11.935334205627441,
          15.841142654418945,
          15.840291976928711,
          11.526772499084473,
          10.987744331359863,
          11.718765258789062,
          10.718937873840332,
          11.993023872375488,
          11.995077133178711
         ],
         "xaxis": "x",
         "y": [
          29.217721939086914,
          29.586894989013672,
          29.45985221862793,
          29.64887046813965,
          29.625520706176758,
          27.380346298217773,
          27.3804988861084,
          28.642684936523438,
          28.80672836303711,
          28.44180679321289,
          28.392234802246094,
          26.177875518798828,
          26.163578033447266
         ],
         "yaxis": "y"
        },
        {
         "customdata": [
          [
           "Against Timarchus "
          ],
          [
           "Against Ctesiphon\n"
          ],
          [
           "The Speech on the Embassy "
          ]
         ],
         "hovertemplate": "author=Aeschines<br>x=%{x}<br>y=%{y}<br>title=%{customdata[0]}<extra></extra>",
         "legendgroup": "Aeschines",
         "marker": {
          "color": "#ab63fa",
          "symbol": "circle"
         },
         "mode": "markers",
         "name": "Aeschines",
         "orientation": "v",
         "showlegend": true,
         "type": "scatter",
         "x": [
          27.651918411254883,
          27.53839111328125,
          27.546401977539062
         ],
         "xaxis": "x",
         "y": [
          2.049499750137329,
          1.3089144229888916,
          1.1395636796951294
         ],
         "yaxis": "y"
        },
        {
         "customdata": [
          [
           "Strategicus"
          ]
         ],
         "hovertemplate": "author=Onasander<br>x=%{x}<br>y=%{y}<br>title=%{customdata[0]}<extra></extra>",
         "legendgroup": "Onasander",
         "marker": {
          "color": "#FFA15A",
          "symbol": "circle"
         },
         "mode": "markers",
         "name": "Onasander",
         "orientation": "v",
         "showlegend": true,
         "type": "scatter",
         "x": [
          1.8009772300720215
         ],
         "xaxis": "x",
         "y": [
          9.269388198852539
         ],
         "yaxis": "y"
        },
        {
         "customdata": [
          [
           "Prosecution Of The Stepmother For Poisoning "
          ],
          [
           "On the Choreutes "
          ],
          [
           "The Second Tetralogy: Prosecution for Accidental Homicide "
          ],
          [
           "The Third Tetralogy: Prosecution for Murder Of One Who Pleads Self-Defense "
          ],
          [
           "Περὶ τοῦ Ἡρῷδου φόνου "
          ],
          [
           "Anonymous Prosecution for Murder "
          ]
         ],
         "hovertemplate": "author=Antiphon<br>x=%{x}<br>y=%{y}<br>title=%{customdata[0]}<extra></extra>",
         "legendgroup": "Antiphon",
         "marker": {
          "color": "#19d3f3",
          "symbol": "circle"
         },
         "mode": "markers",
         "name": "Antiphon",
         "orientation": "v",
         "showlegend": true,
         "type": "scatter",
         "x": [
          27.101852416992188,
          25.745193481445312,
          28.22678565979004,
          28.11341667175293,
          26.355594635009766,
          27.937213897705078
         ],
         "xaxis": "x",
         "y": [
          7.672654151916504,
          6.267772674560547,
          7.022386074066162,
          7.086008071899414,
          6.3682355880737305,
          6.762160301208496
         ],
         "yaxis": "y"
        },
        {
         "customdata": [
          [
           "Ephesiaca"
          ]
         ],
         "hovertemplate": "author=Xenophon of Ephesus<br>x=%{x}<br>y=%{y}<br>title=%{customdata[0]}<extra></extra>",
         "legendgroup": "Xenophon of Ephesus",
         "marker": {
          "color": "#FF6692",
          "symbol": "circle"
         },
         "mode": "markers",
         "name": "Xenophon of Ephesus",
         "orientation": "v",
         "showlegend": true,
         "type": "scatter",
         "x": [
          -20.1516056060791
         ],
         "xaxis": "x",
         "y": [
          1.0641623735427856
         ],
         "yaxis": "y"
        },
        {
         "customdata": [
          [
           "On the Estate of Astyphilus "
          ],
          [
           "On The Estate of Apollodorus "
          ],
          [
           "On The Estate of Cleonymus "
          ],
          [
           "On the Estate of Philoctemon "
          ],
          [
           "On The Estate of Ciron\n"
          ],
          [
           "On Behalf of Euphiletus "
          ],
          [
           "On The Estate Of Pyrrhus "
          ],
          [
           "On the Estate of Nicostratus "
          ],
          [
           "On the Estate of Dicaeogenes "
          ],
          [
           "On the Estate of Menecles "
          ],
          [
           "On the Estate of Hagnias "
          ],
          [
           "On The Estate Of Aristarchus "
          ]
         ],
         "hovertemplate": "author=Isaeus<br>x=%{x}<br>y=%{y}<br>title=%{customdata[0]}<extra></extra>",
         "legendgroup": "Isaeus",
         "marker": {
          "color": "#B6E880",
          "symbol": "circle"
         },
         "mode": "markers",
         "name": "Isaeus",
         "orientation": "v",
         "showlegend": true,
         "type": "scatter",
         "x": [
          22.805431365966797,
          23.49925422668457,
          23.629487991333008,
          24.594282150268555,
          24.64036750793457,
          21.329132080078125,
          24.976764678955078,
          22.75887107849121,
          24.242341995239258,
          22.29266357421875,
          23.622509002685547,
          23.216480255126953
         ],
         "xaxis": "x",
         "y": [
          8.950028419494629,
          9.382132530212402,
          8.037238121032715,
          10.795069694519043,
          9.12158489227295,
          8.144166946411133,
          11.507723808288574,
          10.475987434387207,
          9.924814224243164,
          9.787822723388672,
          11.073606491088867,
          10.183561325073242
         ],
         "yaxis": "y"
        },
        {
         "customdata": [
          [
           "Helen"
          ],
          [
           "To Demonicus"
          ],
          [
           "Against Euthynus"
          ],
          [
           "Aegineticus"
          ],
          [
           "To Philip, II"
          ],
          [
           "Against the Sophists"
          ],
          [
           "Evagoras"
          ],
          [
           "Plataicus"
          ],
          [
           "To Archidamus"
          ],
          [
           "To the Children of Jason"
          ],
          [
           "To Dionysius"
          ],
          [
           "To the Rulers of the Mytilenaeans"
          ],
          [
           "To Nicocles"
          ],
          [
           "Nicocles or the Cyprians"
          ],
          [
           "Against Lochites"
          ],
          [
           "Concerning the Team of Horses"
          ],
          [
           "Trapeziticus"
          ],
          [
           "Against Callimachus"
          ],
          [
           "Panegyricus"
          ],
          [
           "Archidamus"
          ],
          [
           "To Antipater"
          ],
          [
           "To Philip"
          ],
          [
           "To Philip, I"
          ],
          [
           "Areopagiticus"
          ],
          [
           "Antidosis"
          ],
          [
           "Panathenaicus"
          ],
          [
           "On the Peace"
          ],
          [
           "To Alexander"
          ],
          [
           "Busiris"
          ]
         ],
         "hovertemplate": "author=Isocrates<br>x=%{x}<br>y=%{y}<br>title=%{customdata[0]}<extra></extra>",
         "legendgroup": "Isocrates",
         "marker": {
          "color": "#FF97FF",
          "symbol": "circle"
         },
         "mode": "markers",
         "name": "Isocrates",
         "orientation": "v",
         "showlegend": true,
         "type": "scatter",
         "x": [
          16.609966278076172,
          18.755321502685547,
          -34.078155517578125,
          2.3475077152252197,
          8.331795692443848,
          15.192319869995117,
          -32.0393180847168,
          -30.57903480529785,
          -31.162240982055664,
          -34.903072357177734,
          9.658659934997559,
          12.828676223754883,
          16.540607452392578,
          18.365976333618164,
          22.170076370239258,
          19.664512634277344,
          14.631292343139648,
          14.699577331542969,
          -30.125717163085938,
          11.482548713684082,
          -34.862789154052734,
          12.949943542480469,
          12.903504371643066,
          11.959550857543945,
          13.542647361755371,
          -33.30694580078125,
          9.678001403808594,
          -2.308640718460083,
          17.77379608154297
         ],
         "xaxis": "x",
         "y": [
          4.288461685180664,
          5.698385238647461,
          -6.009660243988037,
          0.3240494430065155,
          1.7219581604003906,
          -1.8155882358551025,
          -11.880356788635254,
          -7.122286319732666,
          -6.5916218757629395,
          -8.584148406982422,
          -3.403348445892334,
          -0.7113792896270752,
          3.3062798976898193,
          1.6724637746810913,
          8.059294700622559,
          1.8549628257751465,
          -2.568354368209839,
          -1.7727656364440918,
          -7.985903739929199,
          -0.27524420619010925,
          -6.402429580688477,
          -1.5631015300750732,
          0.047551874071359634,
          -0.022714249789714813,
          -1.4044581651687622,
          -3.884657144546509,
          0.2579934895038605,
          4.042121410369873,
          16.283756256103516
         ],
         "yaxis": "y"
        },
        {
         "customdata": [
          [
           "Orationes"
          ]
         ],
         "hovertemplate": "author=Dio Chrysostom<br>x=%{x}<br>y=%{y}<br>title=%{customdata[0]}<extra></extra>",
         "legendgroup": "Dio Chrysostom",
         "marker": {
          "color": "#FECB52",
          "symbol": "circle"
         },
         "mode": "markers",
         "name": "Dio Chrysostom",
         "orientation": "v",
         "showlegend": true,
         "type": "scatter",
         "x": [
          -5.9226531982421875
         ],
         "xaxis": "x",
         "y": [
          -2.5967724323272705
         ],
         "yaxis": "y"
        },
        {
         "customdata": [
          [
           "De Dinarcho"
          ],
          [
           "Libri secundi de antiquis oratoribus reliquiae"
          ],
          [
           "Antiquitates Romanae, Books I-XX"
          ],
          [
           "De Demosthene"
          ],
          [
           "Ad Ammaeum"
          ],
          [
           "Epistula ad Pompeium Geminum"
          ],
          [
           "De Compositione Verborum"
          ],
          [
           "De Lysia"
          ],
          [
           "De Isocrate"
          ],
          [
           "De Isaeo"
          ],
          [
           "De antiquis oratoribus"
          ],
          [
           "De Thucydidis idiomatibus (epistula ad Ammaeum)"
          ],
          [
           "De Thucydide"
          ]
         ],
         "hovertemplate": "author=Dionysius of Halicarnassus<br>x=%{x}<br>y=%{y}<br>title=%{customdata[0]}<extra></extra>",
         "legendgroup": "Dionysius of Halicarnassus",
         "marker": {
          "color": "#636efa",
          "symbol": "circle"
         },
         "mode": "markers",
         "name": "Dionysius of Halicarnassus",
         "orientation": "v",
         "showlegend": true,
         "type": "scatter",
         "x": [
          8.881882667541504,
          18.455785751342773,
          17.57488250732422,
          17.58323097229004,
          18.49159049987793,
          19.026723861694336,
          18.798234939575195,
          19.334383010864258,
          1.7823269367218018,
          17.238698959350586,
          16.726261138916016,
          -8.193684577941895,
          -7.799127101898193
         ],
         "xaxis": "x",
         "y": [
          5.449306964874268,
          19.94391441345215,
          16.52420997619629,
          19.29461669921875,
          20.60307502746582,
          18.63928985595703,
          18.693876266479492,
          18.490415573120117,
          2.22647762298584,
          19.3291015625,
          19.875764846801758,
          21.950613021850586,
          22.13823127746582
         ],
         "yaxis": "y"
        },
        {
         "customdata": [
          [
           "Eudemian Ethics (Greek). Machine readable text"
          ],
          [
           "Rhetoric"
          ],
          [
           "Metaphysics"
          ],
          [
           "Politics (Greek). Machine readable text"
          ],
          [
           "Athenian Constitution"
          ],
          [
           "Ars Poetica"
          ],
          [
           "Virtues and Vices"
          ],
          [
           "Economics (Greek). Machine readable text"
          ],
          [
           "Nicomachean Ethics"
          ]
         ],
         "hovertemplate": "author=Aristotle<br>x=%{x}<br>y=%{y}<br>title=%{customdata[0]}<extra></extra>",
         "legendgroup": "Aristotle",
         "marker": {
          "color": "#EF553B",
          "symbol": "circle"
         },
         "mode": "markers",
         "name": "Aristotle",
         "orientation": "v",
         "showlegend": true,
         "type": "scatter",
         "x": [
          0.22215762734413147,
          12.303709983825684,
          25.765640258789062,
          -3.039548397064209,
          8.282763481140137,
          0.0013192080659791827,
          -8.33663558959961,
          -8.540369033813477,
          -8.594443321228027
         ],
         "xaxis": "x",
         "y": [
          -5.431811332702637,
          -2.1529133319854736,
          -1.9561824798583984,
          21.227693557739258,
          -8.286503791809082,
          7.8076395988464355,
          21.88402557373047,
          -13.20705509185791,
          -13.437376976013184
         ],
         "yaxis": "y"
        },
        {
         "customdata": [
          [
           "Epitaphius Adonis"
          ],
          [
           "Fragmenta"
          ],
          [
           "Epithalamium Achillis et Deidameiae"
          ]
         ],
         "hovertemplate": "author=Bion of Phlossa<br>x=%{x}<br>y=%{y}<br>title=%{customdata[0]}<extra></extra>",
         "legendgroup": "Bion of Phlossa",
         "marker": {
          "color": "#00cc96",
          "symbol": "circle"
         },
         "mode": "markers",
         "name": "Bion of Phlossa",
         "orientation": "v",
         "showlegend": true,
         "type": "scatter",
         "x": [
          -7.108860492706299,
          -15.628872871398926,
          -17.604490280151367
         ],
         "xaxis": "x",
         "y": [
          -10.260839462280273,
          -13.841937065124512,
          -5.559863567352295
         ],
         "yaxis": "y"
        },
        {
         "customdata": [
          [
           "Vita Barlaam et Joasaph"
          ]
         ],
         "hovertemplate": "author=John, of Damascus (attributed author)<br>x=%{x}<br>y=%{y}<br>title=%{customdata[0]}<extra></extra>",
         "legendgroup": "John, of Damascus (attributed author)",
         "marker": {
          "color": "#ab63fa",
          "symbol": "circle"
         },
         "mode": "markers",
         "name": "John, of Damascus (attributed author)",
         "orientation": "v",
         "showlegend": true,
         "type": "scatter",
         "x": [
          -12.164240837097168
         ],
         "xaxis": "x",
         "y": [
          -9.326458930969238
         ],
         "yaxis": "y"
        },
        {
         "customdata": [
          [
           "New Testament - Galatians"
          ],
          [
           "New Testament - 1 Corinthians"
          ],
          [
           "New Testament - Matthew"
          ],
          [
           "New Testament - Romans"
          ],
          [
           "New Testament - 2 Corinthians"
          ],
          [
           "New Testament - 1 Timothy"
          ],
          [
           "New Testament - Colossians"
          ],
          [
           "New Testament - 2 John"
          ],
          [
           "New Testament - 1 John"
          ],
          [
           "New Testament - 2 Peter"
          ],
          [
           "New Testament - 3 John"
          ],
          [
           "New Testament - 1 Thessalonians"
          ],
          [
           "New Testament - 2 Thessalonians"
          ],
          [
           "New Testament - Luke"
          ],
          [
           "New Testament - John"
          ],
          [
           "New Testament - Acts"
          ],
          [
           "New Testament - Mark"
          ],
          [
           "New Testament - Philippians"
          ],
          [
           "New Testament - 2 Timothy"
          ],
          [
           "New Testament - James"
          ],
          [
           "New Testament - Revelation"
          ],
          [
           "New Testament - Philemon"
          ],
          [
           "New Testament - Jude"
          ],
          [
           "New Testament - Hebrews"
          ],
          [
           "New Testament - 1 Peter"
          ],
          [
           "New Testament - Titus"
          ],
          [
           "New Testament - Ephesians"
          ]
         ],
         "hovertemplate": "author=New Testament<br>x=%{x}<br>y=%{y}<br>title=%{customdata[0]}<extra></extra>",
         "legendgroup": "New Testament",
         "marker": {
          "color": "#FFA15A",
          "symbol": "circle"
         },
         "mode": "markers",
         "name": "New Testament",
         "orientation": "v",
         "showlegend": true,
         "type": "scatter",
         "x": [
          -14.681650161743164,
          -12.262959480285645,
          -11.814470291137695,
          -14.854058265686035,
          -19.537948608398438,
          -19.851181030273438,
          -6.616616725921631,
          -17.130069732666016,
          -15.618895530700684,
          -13.381025314331055,
          -17.915813446044922,
          -14.783561706542969,
          -14.831125259399414,
          -14.831382751464844,
          -14.602899551391602,
          -13.232577323913574,
          -14.465896606445312,
          -11.038792610168457,
          -13.525718688964844,
          -29.235925674438477,
          -35.22038650512695,
          -11.734994888305664,
          -10.967924118041992,
          -15.416536331176758,
          -18.22987174987793,
          9.543458938598633,
          4.493303298950195
         ],
         "xaxis": "x",
         "y": [
          -11.134709358215332,
          -9.389803886413574,
          -8.41535472869873,
          -4.628018379211426,
          -5.739051342010498,
          -6.028392314910889,
          -3.7489373683929443,
          -7.404824256896973,
          -5.600910186767578,
          -5.441046714782715,
          -5.746893405914307,
          -11.265179634094238,
          -12.105713844299316,
          -10.800822257995605,
          -10.948691368103027,
          -6.576948642730713,
          -5.697855472564697,
          -7.861632347106934,
          -10.497963905334473,
          -8.525733947753906,
          -5.462414264678955,
          -6.7216315269470215,
          -6.81638240814209,
          -6.857224941253662,
          -4.648550033569336,
          -13.706945419311523,
          -12.679837226867676
         ],
         "yaxis": "y"
        },
        {
         "customdata": [
          [
           "Πολιτικὰ παραγγέλματα"
          ],
          [
           "Περὶ τοῦ μὴ δεῖν δανείζεσθαι"
          ],
          [
           "Πότερα τῶν ζῴων φρονιμώτερα τὰ χερσαῖα ἢ τὰ ἔνυδρα"
          ],
          [
           "Πρὸς ἡγεμόνα ἀπαίδευτον"
          ],
          [
           "Παραμυθητικός εἰς τὴν γυναῖκα τὴν αὑτου"
          ],
          [
           "Περὶ φυγῆς"
          ],
          [
           "Περὶ τοῦ πότερον ὕδωρ ἢ πῦρ χρησιμώτερον"
          ],
          [
           "Εἰ πρεσβυτέρῳ πολιτευτέον"
          ],
          [
           "Vitae decem oratorum"
          ],
          [
           "Περὶ μοναρχίας καὶ δημοκρατίας καὶ ὀλιγαρχίας"
          ],
          [
           "Περὶ τοῦ ἐμφαινομένου προσώπου τῷ κύκλῳ τῆς σελήνης"
          ],
          [
           "Demosthenes"
          ],
          [
           "Comparison of Agis and Cleomenes and the Gracchi"
          ],
          [
           "Περὶ τῆς εἰς τὰ ἔκγονα φιλοστοργίας"
          ],
          [
           "Περὶ τοῦ μὴ χρᾶν ἔμμετρα νῦν τὴν Πυθίαν"
          ],
          [
           "Galba"
          ],
          [
           "Comparison of Dion and Brutus"
          ],
          [
           "Περὶ εὐθυμίας"
          ],
          [
           "Comparison of Solon and Publicola"
          ],
          [
           "Lucullus"
          ],
          [
           "Caius Marius"
          ],
          [
           "Nicias"
          ],
          [
           "Solon"
          ],
          [
           "Περὶ φιλαδελφίας"
          ],
          [
           "Aratus"
          ],
          [
           "Artaxerxes"
          ],
          [
           "Περὶ τοῦ Ε τοῦ ἐν Δελφοῖς"
          ],
          [
           "Tiberius and Caius Gracchus"
          ],
          [
           "Εἰ αὐτάρκης ἡ κακία πρὸς κακοδαιμονίαν"
          ],
          [
           "Cicero"
          ],
          [
           "Theseus"
          ],
          [
           "Crassus"
          ],
          [
           "Comparison of Lycurgus and Numa"
          ],
          [
           "Pyrrhus"
          ],
          [
           "Publicola"
          ],
          [
           "Comparison of Lucullus and Cimon"
          ],
          [
           "Alcibiades"
          ],
          [
           "Pericles"
          ],
          [
           "Machine readable text"
          ],
          [
           "Comparison of Pelopidas and Marcellus"
          ],
          [
           "Caesar"
          ],
          [
           "Ὑγιεινὰ παραγγέλματα"
          ],
          [
           "Πῶς ἄν τις διακρίνειε τὸν κόλκακα τοῦ φίλου"
          ],
          [
           "Των επτά σοφών συμπόσιον"
          ],
          [
           "Comparison of Agesilaus and Pompey"
          ],
          [
           "Eumenes"
          ],
          [
           "Marcellus"
          ],
          [
           "Marcus Cato"
          ],
          [
           "Fabius Maximus"
          ],
          [
           "Comparison of Pericles and Fabius Maximus"
          ],
          [
           "Comparison of Nicias and Crassus"
          ],
          [
           "Γαμικὰ παραγγέλματα"
          ],
          [
           "Alexander"
          ],
          [
           "Πῶς ἄν τις αἴσθοιτο ἑαυτοῦ προκόπτοντος ἐπʼ ἀρετή"
          ],
          [
           "Phocion"
          ],
          [
           "Πραμυθητικὸς πρὸς Ἀπολλώνιον"
          ],
          [
           "Περὶ δυσωπίας"
          ],
          [
           "Περὶ φιλοπλουτίας"
          ],
          [
           "Ἐπιτομὴ τοῦ περὶ τῆς ἐν τῷ Τιμαίῳ ψυχογονίας"
          ],
          [
           "Περὶ σαρκοφαγίας λόγος β′"
          ],
          [
           "Πλατωνικὰ ζητήματα"
          ],
          [
           "Περὶ τῆς ἐν Τιμαίῳ ψυχογονίας"
          ],
          [
           "Περὶ πολυπραγμοσύνης"
          ],
          [
           "Περὶ φθόνου καὶ μίσους"
          ],
          [
           "Περὶ τῆς Ἡροδότου κακοηθείας"
          ],
          [
           "Συμποσιακῶν προβλημάτων βιβλία"
          ],
          [
           "Περὶ τοῦ ὅτι μάλιστα τοῖς ἡγεμόσι δεῖ τὸν φιλοσοφόν διαλέγεσθαι"
          ],
          [
           "Εἰ καλῶς εἴρηται τὸ λάθε βιώτας"
          ],
          [
           "Ἐρωτικαὶ διηγήσεις"
          ],
          [
           "Ἐρωτικός"
          ],
          [
           "Αἴτια φυσικά"
          ],
          [
           "Συγκρίσεως Ἀριστοφάνους καὶ Μενάνδρου ἐπιτομή"
          ],
          [
           "Πρὸς Κωλώτην"
          ],
          [
           "Lysander"
          ],
          [
           "Cimon"
          ],
          [
           "Comparison of Theseus and Romulus"
          ],
          [
           "Lycurgus"
          ],
          [
           "Cato the Younger"
          ],
          [
           "Demetrius"
          ],
          [
           "Πῶς δεῖ τὸν νέον ποιημάτων ἀκούειν."
          ],
          [
           "Brutus"
          ],
          [
           "Περὶ ἀοπγησίας"
          ],
          [
           "Περὶ τῶν ἐκλελοιπότων"
          ],
          [
           "Otho"
          ],
          [
           "Comparison of Demetrius and Antony"
          ],
          [
           "Numa"
          ],
          [
           "Romulus"
          ],
          [
           "Comparison of Lysander and Sulla"
          ],
          [
           "Sulla"
          ],
          [
           "Περὶ παίδων ἀγωγῆς"
          ],
          [
           "Εἰ διδακτὸν ἡ ἀρετή"
          ],
          [
           "Antony"
          ],
          [
           "Περὶ τῆς ἠθικῆς ἀρετῆς"
          ],
          [
           "Dion"
          ],
          [
           "Comparison of Demosthenes with Cicero"
          ],
          [
           "Περὶ τοῦ ἀκούειν"
          ],
          [
           "Agis and Cleomenes"
          ],
          [
           "Περί πολυφιλίας"
          ],
          [
           "Περὶ δεισιδαιμονίας"
          ],
          [
           "Περὶ τύχης"
          ],
          [
           "Περὶ Ἴσιδος και Ὀσίριδος"
          ],
          [
           "Sertorius"
          ],
          [
           "Pompey"
          ],
          [
           "Camillus"
          ],
          [
           "Caius Marcius Coriolanus"
          ],
          [
           "Comparison of Philopoemen and Titus"
          ],
          [
           "Comparison of Timoleon and Aemilius"
          ],
          [
           "Philopoemen"
          ],
          [
           "Timoleon"
          ],
          [
           "Agesilaus"
          ],
          [
           "Comparison of Sertorius and Eumenes"
          ],
          [
           "Περὶ ἀρετῆς καὶ κακιάς"
          ],
          [
           "Πῶς ἄν τις ἀπ’ ἐχθρῶν ὠφελοῖτο"
          ],
          [
           "Comparison of Aristides and Marcus Cato"
          ],
          [
           "Aemilius Paulus"
          ],
          [
           "Pelopidas"
          ],
          [
           "Comparison of Alcibiades and Coriolanus"
          ],
          [
           "Titus Flamininus"
          ],
          [
           "Themistocles"
          ],
          [
           "Ποτερον τὰ τῆς ψυχῆς ἢ τὰ τοῦ σώματος πάθη χείρονα"
          ],
          [
           "Περὶ τῶν ὑπὸ τοῦ θείου βραδέως τιμωρουμένων"
          ],
          [
           "Περὶ τῶν κοινῶν ἐννοιῶν πρὸς τοὺς Στωικοὺς"
          ],
          [
           "Περὶ σαρκοφαγίας λόγος α′"
          ],
          [
           "Περὶ Στωικῶν ἐνιγμάτων"
          ],
          [
           "Περὶ τοῦ Σωκράτους δαιμονίου"
          ],
          [
           "Σύνοψις τοῦ ὅτι παραδοξότερα οἱ Στωικοὶ τῶν ποιητῶν λέγουσι"
          ],
          [
           "Περὶ εἱμαρμένης"
          ],
          [
           "Περὶ τοῦ τὰ ἄλογα λόγῳ χρῆσθαι"
          ],
          [
           "Περὶ τοῦ ἑαυτὸν ἐπαινεῖν ἀνεπιφθόνως"
          ],
          [
           "Ὅτι οὐδ' ἡδέως ζῆν ἔστι κατ' Ἐπίκουρον"
          ],
          [
           "Περὶ ἀδολεσχίας"
          ]
         ],
         "hovertemplate": "author=Plutarch<br>x=%{x}<br>y=%{y}<br>title=%{customdata[0]}<extra></extra>",
         "legendgroup": "Plutarch",
         "marker": {
          "color": "#19d3f3",
          "symbol": "circle"
         },
         "mode": "markers",
         "name": "Plutarch",
         "orientation": "v",
         "showlegend": true,
         "type": "scatter",
         "x": [
          0.36655086278915405,
          6.343583106994629,
          4.6346354484558105,
          5.836390495300293,
          1.493408441543579,
          9.391020774841309,
          15.402758598327637,
          3.569648504257202,
          1.0340815782546997,
          4.3797502517700195,
          4.10459566116333,
          5.018069744110107,
          3.3821403980255127,
          4.385007381439209,
          -10.506118774414062,
          5.768120765686035,
          3.5859851837158203,
          3.679138422012329,
          5.7900590896606445,
          6.541553020477295,
          4.05297327041626,
          7.580513000488281,
          4.370711803436279,
          2.1158177852630615,
          2.130976915359497,
          4.925861358642578,
          4.018388271331787,
          4.45671272277832,
          7.079797744750977,
          3.889936923980713,
          6.087858200073242,
          3.5108425617218018,
          6.576733589172363,
          2.93758225440979,
          6.53740119934082,
          5.203527450561523,
          6.4118852615356445,
          4.578088760375977,
          4.646554946899414,
          5.6118483543396,
          7.832730770111084,
          2.6955366134643555,
          5.010283946990967,
          4.6060590744018555,
          5.687437534332275,
          2.9482691287994385,
          5.674502849578857,
          4.675673484802246,
          4.25469446182251,
          8.206315040588379,
          1.9467639923095703,
          6.681366443634033,
          4.954495429992676,
          4.970602989196777,
          7.236517906188965,
          4.188002586364746,
          0.5346574783325195,
          2.18391489982605,
          0.6319741606712341,
          1.1771342754364014,
          4.077490329742432,
          6.771492958068848,
          7.602942943572998,
          3.420355796813965,
          6.938894748687744,
          3.42928147315979,
          8.846138954162598,
          7.4134931564331055,
          1.4916625022888184,
          -4.653661251068115,
          -1.2071760892868042,
          6.057803153991699,
          5.8679351806640625,
          5.9659833908081055,
          6.719576358795166,
          4.208577632904053,
          3.376781702041626,
          8.969436645507812,
          5.827819347381592,
          6.565196990966797,
          2.2066378593444824,
          5.269427299499512,
          4.488332748413086,
          8.090219497680664,
          8.729079246520996,
          4.307497501373291,
          4.3875532150268555,
          9.33453369140625,
          3.495901107788086,
          2.4767041206359863,
          5.578216075897217,
          4.492818355560303,
          1.7949341535568237,
          6.7137322425842285,
          4.400937080383301,
          5.110167026519775,
          2.689755439758301,
          2.851804733276367,
          2.6852211952209473,
          5.88482666015625,
          3.548704147338867,
          7.081234455108643,
          6.179296970367432,
          3.2395167350769043,
          -16.423765182495117,
          5.394624710083008,
          5.247087478637695,
          6.819797039031982,
          2.9541423320770264,
          3.3947317600250244,
          7.183411598205566,
          2.73763108253479,
          3.3936262130737305,
          4.533313274383545,
          4.73555850982666,
          5.258125305175781,
          6.649938106536865,
          3.2927443981170654,
          6.5420989990234375,
          -1.6778806447982788,
          1.2187743186950684,
          -1.6130186319351196,
          5.036559581756592,
          -7.259666919708252,
          1.11636221408844,
          -0.19128009676933289,
          8.21877670288086,
          1.5008875131607056,
          4.509174346923828,
          -8.97889232635498,
          -10.059188842773438
         ],
         "xaxis": "x",
         "y": [
          -10.851318359375,
          -12.617074012756348,
          -11.175163269042969,
          -12.278295516967773,
          -9.87166690826416,
          -13.642223358154297,
          14.898183822631836,
          2.6485185623168945,
          -8.459797859191895,
          10.0823974609375,
          5.6290974617004395,
          -12.015729904174805,
          -8.780790328979492,
          16.532262802124023,
          -2.84108304977417,
          -14.875665664672852,
          3.464207172393799,
          15.234485626220703,
          16.966310501098633,
          10.402619361877441,
          8.692283630371094,
          -14.022712707519531,
          13.364371299743652,
          12.607630729675293,
          -7.689175128936768,
          14.950638771057129,
          -12.328473091125488,
          18.186511993408203,
          6.394040584564209,
          16.30135726928711,
          2.7588486671447754,
          13.684013366699219,
          14.96652603149414,
          4.214550971984863,
          10.23866081237793,
          8.741703033447266,
          8.57951545715332,
          5.073694705963135,
          17.356870651245117,
          -17.3337345123291,
          -16.701723098754883,
          -14.480361938476562,
          6.39157772064209,
          14.073454856872559,
          16.033390045166016,
          15.854135513305664,
          15.670488357543945,
          4.894163608551025,
          4.2024102210998535,
          -11.56704330444336,
          14.238081932067871,
          -17.273500442504883,
          10.250317573547363,
          -8.08056354522705,
          -15.880462646484375,
          -14.5425386428833,
          -5.9856858253479,
          -13.143670082092285,
          -6.402384281158447,
          -6.190547466278076,
          -14.976968765258789,
          -10.16159725189209,
          7.994658946990967,
          -16.38578224182129,
          -13.603218078613281,
          -10.41187858581543,
          9.54407024383545,
          -12.626925468444824,
          -10.472892761230469,
          -3.0093090534210205,
          -8.687236785888672,
          9.592679023742676,
          8.700067520141602,
          4.834920406341553,
          3.4946749210357666,
          17.675918579101562,
          12.768939971923828,
          -15.877812385559082,
          14.503535270690918,
          -15.952582359313965,
          -7.787306785583496,
          14.40843677520752,
          6.604738235473633,
          5.446915626525879,
          6.03456449508667,
          3.0622129440307617,
          15.732133865356445,
          -5.075511455535889,
          -13.319330215454102,
          17.253339767456055,
          -13.694266319274902,
          7.321897029876709,
          3.0650227069854736,
          -17.30408477783203,
          12.553411483764648,
          -13.75857162475586,
          -12.614787101745605,
          -11.496929168701172,
          -7.3331990242004395,
          13.578248023986816,
          17.221405029296875,
          15.163990020751953,
          14.711124420166016,
          5.221010684967041,
          -6.486852169036865,
          13.33657169342041,
          3.7790799140930176,
          12.190922737121582,
          4.560690402984619,
          -11.851557731628418,
          -15.541601181030273,
          3.072908878326416,
          6.779081344604492,
          11.678256034851074,
          2.093189239501953,
          12.531352996826172,
          8.007044792175293,
          -11.725769996643066,
          -10.854640007019043,
          -8.887103080749512,
          -12.19626235961914,
          -8.82996940612793,
          -9.964618682861328,
          -2.585808753967285,
          -4.806606292724609,
          -11.772562026977539,
          -15.255255699157715,
          -13.364633560180664,
          -15.828044891357422,
          -0.8052918910980225,
          4.707531929016113
         ],
         "yaxis": "y"
        },
        {
         "customdata": [
          [
           "Dipsades"
          ],
          [
           "Quomodo historia conscribenda sit"
          ],
          [
           "Navigium"
          ],
          [
           "Scytha"
          ],
          [
           "De Domo"
          ],
          [
           "De luctu"
          ],
          [
           "Philopsuedes sive incredulus"
          ],
          [
           "Alexander"
          ],
          [
           "Nigrinus"
          ],
          [
           "Hermotimus"
          ],
          [
           "Prometheus es in verbis"
          ],
          [
           "Abdicatus"
          ],
          [
           "Saturnalia"
          ],
          [
           "Phalaris"
          ],
          [
           "Imagines"
          ],
          [
           "Muscae Encomium"
          ],
          [
           "De parasito sive artem esse parasiticam"
          ],
          [
           "Demonax"
          ],
          [
           "Rhetorum praeceptor"
          ],
          [
           "Symposium"
          ],
          [
           "Verae Historiae"
          ],
          [
           "Vitarum auctio"
          ],
          [
           "Contemplantes"
          ],
          [
           "De astrologia"
          ],
          [
           "Soleocista"
          ],
          [
           "Lexiphanes"
          ],
          [
           "De Syria dea"
          ],
          [
           "Timon"
          ],
          [
           "Piscator"
          ],
          [
           "Calumniae non temere credundum"
          ],
          [
           "Judicium vocalium"
          ],
          [
           "Pro imaginibus"
          ],
          [
           "Eunuchus"
          ],
          [
           "Podagra"
          ],
          [
           "Pseudologista"
          ],
          [
           "Dearum judicium"
          ],
          [
           "Necyomantia"
          ],
          [
           "Bacchus"
          ],
          [
           "Hercules"
          ],
          [
           "Deorum concilium"
          ],
          [
           "Zeuxis"
          ],
          [
           "Dialogi deorum"
          ],
          [
           "Hesiod"
          ],
          [
           "Dialogi mortuorum"
          ],
          [
           "Apologia"
          ],
          [
           "Electrum"
          ],
          [
           "Hippias"
          ],
          [
           "Anacharsis"
          ],
          [
           "De mercede"
          ],
          [
           "Dialogi Marini"
          ],
          [
           "Pro lapsu inter salutandum"
          ],
          [
           "Harmonides"
          ],
          [
           "Herodotus"
          ],
          [
           "Dialogi meretricii"
          ],
          [
           "Tyrannicida"
          ],
          [
           "De morte Peregrini"
          ],
          [
           "De saltatione"
          ],
          [
           "Macrobii"
          ],
          [
           "Cataplus"
          ],
          [
           "Somnium sive vita Luciani"
          ],
          [
           "Prometheus"
          ],
          [
           "De sacrificiis"
          ],
          [
           "De sacrificiis"
          ],
          [
           "Juppiter trageodeus"
          ],
          [
           "Toxaris vel amicitia"
          ],
          [
           "Fugitivi"
          ],
          [
           "Bis accusatus sive tribunalia"
          ],
          [
           "Gallus"
          ],
          [
           "Icaromenippus"
          ],
          [
           "Juppiter confuatus"
          ],
          [
           "Adversus indoctum et libros multos ementem"
          ],
          [
           "Patriae Encomium"
          ]
         ],
         "hovertemplate": "author=Lucian<br>x=%{x}<br>y=%{y}<br>title=%{customdata[0]}<extra></extra>",
         "legendgroup": "Lucian",
         "marker": {
          "color": "#FF6692",
          "symbol": "circle"
         },
         "mode": "markers",
         "name": "Lucian",
         "orientation": "v",
         "showlegend": true,
         "type": "scatter",
         "x": [
          -15.691963195800781,
          -10.57231616973877,
          -11.36532974243164,
          -7.399573802947998,
          -17.021886825561523,
          -17.050018310546875,
          -12.204916954040527,
          -14.462859153747559,
          -11.59897518157959,
          8.268455505371094,
          -14.284096717834473,
          -13.729273796081543,
          -8.962850570678711,
          -10.488245010375977,
          -6.723667144775391,
          -1.515455722808838,
          -9.800097465515137,
          -16.590852737426758,
          -18.853302001953125,
          -5.434034824371338,
          -14.554605484008789,
          -12.327240943908691,
          -7.79535436630249,
          -16.011066436767578,
          -12.815412521362305,
          -14.415350914001465,
          -13.586894989013672,
          0.2452632486820221,
          -4.8484063148498535,
          -8.77380084991455,
          -1.2348588705062866,
          -7.881283283233643,
          -10.564080238342285,
          -14.2916841506958,
          -17.44487762451172,
          -11.92822551727295,
          -8.759084701538086,
          -14.246253967285156,
          -10.669716835021973,
          -16.469219207763672,
          -8.172225952148438,
          -15.492487907409668,
          -8.117280006408691,
          -12.379406929016113,
          -3.2200047969818115,
          -12.31193733215332,
          -11.731744766235352,
          -14.83089828491211,
          -6.666696548461914,
          -7.418188095092773,
          -10.71316909790039,
          -17.511211395263672,
          8.173529624938965,
          -17.22224235534668,
          -9.064814567565918,
          2.5163161754608154,
          -15.2633056640625,
          -9.636398315429688,
          -12.895090103149414,
          -4.316377639770508,
          -4.307203769683838,
          -13.881621360778809,
          -17.593128204345703,
          -11.967329025268555,
          -13.625361442565918,
          -16.6337947845459,
          -18.40677833557129,
          -6.546056747436523,
          -10.917755126953125,
          6.221931457519531,
          -8.684014320373535,
          -28.077606201171875
         ],
         "xaxis": "x",
         "y": [
          2.6849730014801025,
          2.5126895904541016,
          0.6406907439231873,
          -0.980915367603302,
          6.19710111618042,
          8.079638481140137,
          1.1939430236816406,
          1.9239823818206787,
          3.7697763442993164,
          -1.9110645055770874,
          6.16066312789917,
          7.156037330627441,
          2.940330743789673,
          -0.5514810681343079,
          -0.767257034778595,
          3.4298596382141113,
          3.7131025791168213,
          5.435793876647949,
          6.2863969802856445,
          -8.327139854431152,
          2.266836643218994,
          11.538947105407715,
          4.7350311279296875,
          5.309912204742432,
          11.816609382629395,
          5.425908088684082,
          5.332150936126709,
          2.6707091331481934,
          -4.301950931549072,
          3.0736002922058105,
          2.1961705684661865,
          -8.452030181884766,
          3.864835739135742,
          -0.030260900035500526,
          7.038647651672363,
          2.5924935340881348,
          -1.9201462268829346,
          3.4665355682373047,
          1.543556809425354,
          1.186641812324524,
          -0.06135155260562897,
          3.601471185684204,
          0.6575944423675537,
          2.812062978744507,
          -4.079996109008789,
          5.023082256317139,
          6.143727779388428,
          0.078275166451931,
          0.95262211561203,
          1.6665914058685303,
          0.8043310642242432,
          2.607093334197998,
          -1.526888132095337,
          7.319972038269043,
          2.2636256217956543,
          7.005490779876709,
          3.705930233001709,
          0.7579699158668518,
          2.4958200454711914,
          -0.8957611918449402,
          -0.8814271688461304,
          4.696112155914307,
          4.267781734466553,
          4.206254005432129,
          3.651559829711914,
          3.8557825088500977,
          6.62191104888916,
          2.6154990196228027,
          5.070342063903809,
          0.9387057423591614,
          -17.212141036987305,
          -5.5092644691467285
         ],
         "yaxis": "y"
        },
        {
         "customdata": [
          [
           "Argonautica"
          ]
         ],
         "hovertemplate": "author=Apollonius Rhodius<br>x=%{x}<br>y=%{y}<br>title=%{customdata[0]}<extra></extra>",
         "legendgroup": "Apollonius Rhodius",
         "marker": {
          "color": "#B6E880",
          "symbol": "circle"
         },
         "mode": "markers",
         "name": "Apollonius Rhodius",
         "orientation": "v",
         "showlegend": true,
         "type": "scatter",
         "x": [
          -30.37684440612793
         ],
         "xaxis": "x",
         "y": [
          -10.959977149963379
         ],
         "yaxis": "y"
        },
        {
         "customdata": [
          [
           "Ἡρακλῆς"
          ],
          [
           "Ἑκάβη"
          ],
          [
           "Κύκλωψ"
          ],
          [
           "Ἀνδρομάχη"
          ],
          [
           "Ἱκέτιδες"
          ],
          [
           "Φοίνισσαι"
          ],
          [
           "Ἠλέκτρα"
          ],
          [
           "Ἰφιγένεια ἐν Ταύροις"
          ],
          [
           "Ἑλένη"
          ],
          [
           "Μήδεια"
          ],
          [
           "Ἡρακλεῖδαι"
          ],
          [
           "Ἱππόλυτος"
          ],
          [
           "Ἄλκηστις"
          ],
          [
           "Τρῳάδες"
          ],
          [
           "Ὀρέστης"
          ],
          [
           "Ἰφιγένεια ἐν Αὐλίδι"
          ],
          [
           "Ῥῆσος"
          ],
          [
           "Βάκχαι"
          ],
          [
           "Ἴων"
          ]
         ],
         "hovertemplate": "author=Euripides<br>x=%{x}<br>y=%{y}<br>title=%{customdata[0]}<extra></extra>",
         "legendgroup": "Euripides",
         "marker": {
          "color": "#FF97FF",
          "symbol": "circle"
         },
         "mode": "markers",
         "name": "Euripides",
         "orientation": "v",
         "showlegend": true,
         "type": "scatter",
         "x": [
          -32.11204528808594,
          -31.06820297241211,
          -33.12958908081055,
          -32.45354080200195,
          -29.468013763427734,
          -34.96685791015625,
          -29.75132179260254,
          -33.48922348022461,
          -34.108707427978516,
          -36.20989227294922,
          -31.557737350463867,
          -29.898311614990234,
          -34.976104736328125,
          -28.733640670776367,
          -33.411460876464844,
          -31.86616325378418,
          -35.78147888183594,
          -28.39571762084961,
          25.31543731689453
         ],
         "xaxis": "x",
         "y": [
          -5.278231143951416,
          -9.54817008972168,
          -11.072480201721191,
          -10.968170166015625,
          -6.40805196762085,
          -9.529991149902344,
          -7.278392791748047,
          -7.424495220184326,
          -4.590449810028076,
          -5.735415935516357,
          -10.557698249816895,
          -4.4731125831604,
          -7.574003219604492,
          -7.336245536804199,
          -7.5559282302856445,
          -11.70441722869873,
          -8.569766998291016,
          -8.39521598815918,
          4.1241865158081055
         ],
         "yaxis": "y"
        },
        {
         "customdata": [
          [
           "Chrestomathy"
          ]
         ],
         "hovertemplate": "author=Proclus<br>x=%{x}<br>y=%{y}<br>title=%{customdata[0]}<extra></extra>",
         "legendgroup": "Proclus",
         "marker": {
          "color": "#FECB52",
          "symbol": "circle"
         },
         "mode": "markers",
         "name": "Proclus",
         "orientation": "v",
         "showlegend": true,
         "type": "scatter",
         "x": [
          16.46007537841797
         ],
         "xaxis": "x",
         "y": [
          0.8331311345100403
         ],
         "yaxis": "y"
        },
        {
         "customdata": [
          [
           "In Defence of Lycophron "
          ],
          [
           "Funeral Speech "
          ],
          [
           "Against Athenogenes "
          ],
          [
           "In Defence of Euxenippus "
          ],
          [
           "Against Demosthenes "
          ],
          [
           "Against Philippides"
          ]
         ],
         "hovertemplate": "author=Hyperides<br>x=%{x}<br>y=%{y}<br>title=%{customdata[0]}<extra></extra>",
         "legendgroup": "Hyperides",
         "marker": {
          "color": "#636efa",
          "symbol": "circle"
         },
         "mode": "markers",
         "name": "Hyperides",
         "orientation": "v",
         "showlegend": true,
         "type": "scatter",
         "x": [
          25.27487564086914,
          25.325172424316406,
          25.000099182128906,
          18.157737731933594,
          -6.429654121398926,
          11.92016887664795
         ],
         "xaxis": "x",
         "y": [
          4.210003852844238,
          2.9966912269592285,
          1.8409019708633423,
          4.164876461029053,
          8.102798461914062,
          4.556367874145508
         ],
         "yaxis": "y"
        },
        {
         "customdata": [
          [
           "Geographiae Informatio"
          ]
         ],
         "hovertemplate": "author=Agathemerus<br>x=%{x}<br>y=%{y}<br>title=%{customdata[0]}<extra></extra>",
         "legendgroup": "Agathemerus",
         "marker": {
          "color": "#EF553B",
          "symbol": "circle"
         },
         "mode": "markers",
         "name": "Agathemerus",
         "orientation": "v",
         "showlegend": true,
         "type": "scatter",
         "x": [
          11.92210578918457
         ],
         "xaxis": "x",
         "y": [
          4.5552239418029785
         ],
         "yaxis": "y"
        },
        {
         "customdata": [
          [
           "Geography"
          ],
          [
           "Geography (Greek). Machine readable text"
          ]
         ],
         "hovertemplate": "author=Strabo<br>x=%{x}<br>y=%{y}<br>title=%{customdata[0]}<extra></extra>",
         "legendgroup": "Strabo",
         "marker": {
          "color": "#00cc96",
          "symbol": "circle"
         },
         "mode": "markers",
         "name": "Strabo",
         "orientation": "v",
         "showlegend": true,
         "type": "scatter",
         "x": [
          -11.442059516906738,
          11.392993927001953
         ],
         "xaxis": "x",
         "y": [
          -0.6288623213768005,
          8.137187004089355
         ],
         "yaxis": "y"
        },
        {
         "customdata": [
          [
           "Statuaram Descriptiones"
          ]
         ],
         "hovertemplate": "author=Callistratus<br>x=%{x}<br>y=%{y}<br>title=%{customdata[0]}<extra></extra>",
         "legendgroup": "Callistratus",
         "marker": {
          "color": "#ab63fa",
          "symbol": "circle"
         },
         "mode": "markers",
         "name": "Callistratus",
         "orientation": "v",
         "showlegend": true,
         "type": "scatter",
         "x": [
          12.036140441894531
         ],
         "xaxis": "x",
         "y": [
          12.014913558959961
         ],
         "yaxis": "y"
        },
        {
         "customdata": [
          [
           "Histories"
          ]
         ],
         "hovertemplate": "author=Polybius<br>x=%{x}<br>y=%{y}<br>title=%{customdata[0]}<extra></extra>",
         "legendgroup": "Polybius",
         "marker": {
          "color": "#FFA15A",
          "symbol": "circle"
         },
         "mode": "markers",
         "name": "Polybius",
         "orientation": "v",
         "showlegend": true,
         "type": "scatter",
         "x": [
          8.681831359863281
         ],
         "xaxis": "x",
         "y": [
          2.1154425144195557
         ],
         "yaxis": "y"
        },
        {
         "customdata": [
          [
           "Antiquitates Judaicae"
          ],
          [
           "Contra Apionem"
          ],
          [
           "De bello Judaico libri vii"
          ],
          [
           "Josephi vita"
          ]
         ],
         "hovertemplate": "author=Flavius Josephus<br>x=%{x}<br>y=%{y}<br>title=%{customdata[0]}<extra></extra>",
         "legendgroup": "Flavius Josephus",
         "marker": {
          "color": "#19d3f3",
          "symbol": "circle"
         },
         "mode": "markers",
         "name": "Flavius Josephus",
         "orientation": "v",
         "showlegend": true,
         "type": "scatter",
         "x": [
          11.184945106506348,
          11.530346870422363,
          -2.5134706497192383,
          -4.278533935546875
         ],
         "xaxis": "x",
         "y": [
          12.438665390014648,
          12.245367050170898,
          -27.039125442504883,
          6.994028091430664
         ],
         "yaxis": "y"
        },
        {
         "customdata": [
          [
           "Alexandra"
          ]
         ],
         "hovertemplate": "author=Lycophron<br>x=%{x}<br>y=%{y}<br>title=%{customdata[0]}<extra></extra>",
         "legendgroup": "Lycophron",
         "marker": {
          "color": "#FF6692",
          "symbol": "circle"
         },
         "mode": "markers",
         "name": "Lycophron",
         "orientation": "v",
         "showlegend": true,
         "type": "scatter",
         "x": [
          -13.903325080871582
         ],
         "xaxis": "x",
         "y": [
          -0.13365106284618378
         ],
         "yaxis": "y"
        },
        {
         "customdata": [
          [
           "De Natura Animalium"
          ],
          [
           "Epistulae Rusticae"
          ],
          [
           "Varia Historia"
          ]
         ],
         "hovertemplate": "author=Aelian<br>x=%{x}<br>y=%{y}<br>title=%{customdata[0]}<extra></extra>",
         "legendgroup": "Aelian",
         "marker": {
          "color": "#B6E880",
          "symbol": "circle"
         },
         "mode": "markers",
         "name": "Aelian",
         "orientation": "v",
         "showlegend": true,
         "type": "scatter",
         "x": [
          1.3741824626922607,
          -16.88688087463379,
          11.17603874206543
         ],
         "xaxis": "x",
         "y": [
          10.936599731445312,
          -12.590600967407227,
          14.968395233154297
         ],
         "yaxis": "y"
        },
        {
         "customdata": [
          [
           "Historia ecclesiastica"
          ]
         ],
         "hovertemplate": "author=Eusebius of Caesarea<br>x=%{x}<br>y=%{y}<br>title=%{customdata[0]}<extra></extra>",
         "legendgroup": "Eusebius of Caesarea",
         "marker": {
          "color": "#FF97FF",
          "symbol": "circle"
         },
         "mode": "markers",
         "name": "Eusebius of Caesarea",
         "orientation": "v",
         "showlegend": true,
         "type": "scatter",
         "x": [
          -10.281167030334473
         ],
         "xaxis": "x",
         "y": [
          -14.866293907165527
         ],
         "yaxis": "y"
        },
        {
         "customdata": [
          [
           "Historiae Romanae"
          ]
         ],
         "hovertemplate": "author=Cassius Dio Cocceianus<br>x=%{x}<br>y=%{y}<br>title=%{customdata[0]}<extra></extra>",
         "legendgroup": "Cassius Dio Cocceianus",
         "marker": {
          "color": "#FECB52",
          "symbol": "circle"
         },
         "mode": "markers",
         "name": "Cassius Dio Cocceianus",
         "orientation": "v",
         "showlegend": true,
         "type": "scatter",
         "x": [
          -33.87226486206055
         ],
         "xaxis": "x",
         "y": [
          -8.096728324890137
         ],
         "yaxis": "y"
        },
        {
         "customdata": [
          [
           "Dionysiaca"
          ]
         ],
         "hovertemplate": "author=Nonnus of Panopolis<br>x=%{x}<br>y=%{y}<br>title=%{customdata[0]}<extra></extra>",
         "legendgroup": "Nonnus of Panopolis",
         "marker": {
          "color": "#636efa",
          "symbol": "circle"
         },
         "mode": "markers",
         "name": "Nonnus of Panopolis",
         "orientation": "v",
         "showlegend": true,
         "type": "scatter",
         "x": [
          -30.343284606933594
         ],
         "xaxis": "x",
         "y": [
          -11.620430946350098
         ],
         "yaxis": "y"
        },
        {
         "customdata": [
          [
           "Hymn to Zeus"
          ],
          [
           "Hymn to Zeus"
          ],
          [
           "Epigrams"
          ],
          [
           "Epigrams, Fragmenta"
          ],
          [
           "Hymn to Apollo"
          ],
          [
           "Hymn to Apollo"
          ],
          [
           "Hymn to Demeter"
          ],
          [
           "Hymn to Demeter"
          ],
          [
           "Hymn to Delos"
          ],
          [
           "Hymn to Delos"
          ],
          [
           "Hymn to Athena"
          ],
          [
           "Hymn to Athena"
          ],
          [
           "Hymn to Artemis"
          ],
          [
           "Hymn to Artemis"
          ]
         ],
         "hovertemplate": "author=Callimachus<br>x=%{x}<br>y=%{y}<br>title=%{customdata[0]}<extra></extra>",
         "legendgroup": "Callimachus",
         "marker": {
          "color": "#EF553B",
          "symbol": "circle"
         },
         "mode": "markers",
         "name": "Callimachus",
         "orientation": "v",
         "showlegend": true,
         "type": "scatter",
         "x": [
          -6.199485778808594,
          -5.967494964599609,
          -31.11402702331543,
          -7.325806617736816,
          -28.322786331176758,
          -29.448184967041016,
          -32.46878433227539,
          -35.314266204833984,
          -32.39120101928711,
          -29.564525604248047,
          -31.674518585205078,
          -32.795291900634766,
          -2.6112823486328125,
          -2.6072540283203125
         ],
         "xaxis": "x",
         "y": [
          -12.723536491394043,
          -13.001392364501953,
          -9.190502166748047,
          -14.694350242614746,
          -7.449333667755127,
          -8.584705352783203,
          -9.227160453796387,
          -9.854133605957031,
          -7.3870134353637695,
          -5.126218318939209,
          -4.424030780792236,
          -6.13579797744751,
          22.105783462524414,
          22.11587905883789
         ],
         "yaxis": "y"
        },
        {
         "customdata": [
          [
           "De Sublimitate"
          ],
          [
           "Περὶ ὕψους"
          ]
         ],
         "hovertemplate": "author=Longinus<br>x=%{x}<br>y=%{y}<br>title=%{customdata[0]}<extra></extra>",
         "legendgroup": "Longinus",
         "marker": {
          "color": "#00cc96",
          "symbol": "circle"
         },
         "mode": "markers",
         "name": "Longinus",
         "orientation": "v",
         "showlegend": true,
         "type": "scatter",
         "x": [
          9.77897834777832,
          9.449362754821777
         ],
         "xaxis": "x",
         "y": [
          19.066007614135742,
          18.614595413208008
         ],
         "yaxis": "y"
        },
        {
         "customdata": [
          [
           "Λιβυκή"
          ],
          [
           "Ιβηρική"
          ],
          [
           "ἐκ τῆς Σικελῖκης καὶ νησιωτικής"
          ],
          [
           "Ἀννιβαϊκή"
          ],
          [
           "Ἰλλυρική"
          ],
          [
           "Συριακή"
          ],
          [
           "Μιθριδάτειος"
          ],
          [
           "ἐκ τῆς Ἰταλικῆς"
          ],
          [
           "ἐκ τῆς Σαυνιτικῆς"
          ],
          [
           "ἐκ τῆς Κελτῖκης"
          ],
          [
           "ἐκ τῆς βασιλικῆς"
          ],
          [
           "ἐκ τῆς Μακεδονικῆς"
          ],
          [
           "Ἐμφυλίων Πρώτη"
          ],
          [
           "ἐκ τῆς Νομαδικῆς"
          ]
         ],
         "hovertemplate": "author=Appian<br>x=%{x}<br>y=%{y}<br>title=%{customdata[0]}<extra></extra>",
         "legendgroup": "Appian",
         "marker": {
          "color": "#ab63fa",
          "symbol": "circle"
         },
         "mode": "markers",
         "name": "Appian",
         "orientation": "v",
         "showlegend": true,
         "type": "scatter",
         "x": [
          9.375655174255371,
          9.556258201599121,
          9.137126922607422,
          10.637391090393066,
          10.359427452087402,
          9.043947219848633,
          9.821362495422363,
          8.854708671569824,
          7.139140605926514,
          10.267601013183594,
          8.602425575256348,
          5.761930465698242,
          -6.601936340332031,
          -34.95654296875
         ],
         "xaxis": "x",
         "y": [
          15.596278190612793,
          18.548086166381836,
          17.356739044189453,
          17.468767166137695,
          17.892101287841797,
          13.667448997497559,
          16.167268753051758,
          15.824145317077637,
          5.7058634757995605,
          16.339128494262695,
          18.545753479003906,
          6.469224452972412,
          9.48432445526123,
          -3.6873831748962402
         ],
         "yaxis": "y"
        },
        {
         "customdata": [
          [
           "Tactica"
          ]
         ],
         "hovertemplate": "author=Asclepiodotus<br>x=%{x}<br>y=%{y}<br>title=%{customdata[0]}<extra></extra>",
         "legendgroup": "Asclepiodotus",
         "marker": {
          "color": "#FFA15A",
          "symbol": "circle"
         },
         "mode": "markers",
         "name": "Asclepiodotus",
         "orientation": "v",
         "showlegend": true,
         "type": "scatter",
         "x": [
          -5.804910659790039
         ],
         "xaxis": "x",
         "y": [
          9.807487487792969
         ],
         "yaxis": "y"
        },
        {
         "customdata": [
          [
           "On the Twelve Years "
          ]
         ],
         "hovertemplate": "author=Demades<br>x=%{x}<br>y=%{y}<br>title=%{customdata[0]}<extra></extra>",
         "legendgroup": "Demades",
         "marker": {
          "color": "#19d3f3",
          "symbol": "circle"
         },
         "mode": "markers",
         "name": "Demades",
         "orientation": "v",
         "showlegend": true,
         "type": "scatter",
         "x": [
          -19.53955841064453
         ],
         "xaxis": "x",
         "y": [
          1.9082138538360596
         ],
         "yaxis": "y"
        },
        {
         "customdata": [
          [
           "Tetrabiblos"
          ]
         ],
         "hovertemplate": "author=Claudius Ptolemy<br>x=%{x}<br>y=%{y}<br>title=%{customdata[0]}<extra></extra>",
         "legendgroup": "Claudius Ptolemy",
         "marker": {
          "color": "#FF6692",
          "symbol": "circle"
         },
         "mode": "markers",
         "name": "Claudius Ptolemy",
         "orientation": "v",
         "showlegend": true,
         "type": "scatter",
         "x": [
          -0.06667184829711914
         ],
         "xaxis": "x",
         "y": [
          -16.282033920288086
         ],
         "yaxis": "y"
        },
        {
         "customdata": [
          [
           "Leucippe et Clitophon"
          ]
         ],
         "hovertemplate": "author=Achilles Tatius<br>x=%{x}<br>y=%{y}<br>title=%{customdata[0]}<extra></extra>",
         "legendgroup": "Achilles Tatius",
         "marker": {
          "color": "#B6E880",
          "symbol": "circle"
         },
         "mode": "markers",
         "name": "Achilles Tatius",
         "orientation": "v",
         "showlegend": true,
         "type": "scatter",
         "x": [
          0.24370542168617249
         ],
         "xaxis": "x",
         "y": [
          -15.10169506072998
         ],
         "yaxis": "y"
        },
        {
         "customdata": [
          [
           "Ἀρριανοῦ τῶν Ἐπικτήτου Διατριβῶν"
          ],
          [
           "Fragmenta"
          ],
          [
           "Ἐγχειρίδιον"
          ]
         ],
         "hovertemplate": "author=Epictetus<br>x=%{x}<br>y=%{y}<br>title=%{customdata[0]}<extra></extra>",
         "legendgroup": "Epictetus",
         "marker": {
          "color": "#FF97FF",
          "symbol": "circle"
         },
         "mode": "markers",
         "name": "Epictetus",
         "orientation": "v",
         "showlegend": true,
         "type": "scatter",
         "x": [
          -0.26056140661239624,
          -15.428267478942871,
          -30.260847091674805
         ],
         "xaxis": "x",
         "y": [
          -15.703024864196777,
          -13.056678771972656,
          -6.3852949142456055
         ],
         "yaxis": "y"
        },
        {
         "customdata": [
          [
           "Βαρνάβα ἐπιστολή"
          ]
         ],
         "hovertemplate": "author=Barnabas<br>x=%{x}<br>y=%{y}<br>title=%{customdata[0]}<extra></extra>",
         "legendgroup": "Barnabas",
         "marker": {
          "color": "#FECB52",
          "symbol": "circle"
         },
         "mode": "markers",
         "name": "Barnabas",
         "orientation": "v",
         "showlegend": true,
         "type": "scatter",
         "x": [
          -31.960126876831055
         ],
         "xaxis": "x",
         "y": [
          -4.987881183624268
         ],
         "yaxis": "y"
        },
        {
         "customdata": [
          [
           "To the Uneducated Cynics"
          ],
          [
           "To the Cynic Heracleios"
          ],
          [
           "Panegyric in Honor of the Emperor Constantinus"
          ],
          [
           "Epistula ad Themistium"
          ],
          [
           "Hymn to the Mother of the Gods"
          ],
          [
           "Misopogon"
          ],
          [
           "Epistulae"
          ],
          [
           "The Heroic Deeds of the Emperor Constantius, or on Kingship"
          ],
          [
           "A Consolation to Himself Upon the Departure of the Excellent Sallust"
          ],
          [
           "Letter to the Senate and the People of Athens"
          ],
          [
           "Panegyric on the Empress Eusebia"
          ],
          [
           "Hymn to King Helios Dedicated to Sallust"
          ],
          [
           "Contra Galilaeos"
          ],
          [
           "The Caesars"
          ]
         ],
         "hovertemplate": "author=Julian the Emperor<br>x=%{x}<br>y=%{y}<br>title=%{customdata[0]}<extra></extra>",
         "legendgroup": "Julian the Emperor",
         "marker": {
          "color": "#636efa",
          "symbol": "circle"
         },
         "mode": "markers",
         "name": "Julian the Emperor",
         "orientation": "v",
         "showlegend": true,
         "type": "scatter",
         "x": [
          -29.418508529663086,
          -34.53935241699219,
          -35.24613952636719,
          -4.063745975494385,
          -13.708642959594727,
          -36.336456298828125,
          -33.35267639160156,
          -34.07261276245117,
          -28.813486099243164,
          -29.982067108154297,
          -31.85746955871582,
          -33.89136505126953,
          -19.049442291259766,
          -9.78054141998291
         ],
         "xaxis": "x",
         "y": [
          -9.48960018157959,
          -4.467339038848877,
          -7.028916358947754,
          -14.171960830688477,
          7.7489824295043945,
          -9.2227144241333,
          -8.691402435302734,
          -11.6854887008667,
          -10.265928268432617,
          -5.468455791473389,
          -6.076680660247803,
          -8.822480201721191,
          1.9339749813079834,
          -20.527753829956055
         ],
         "yaxis": "y"
        },
        {
         "customdata": [
          [
           "Daphnis and Chloe"
          ]
         ],
         "hovertemplate": "author=Longus<br>x=%{x}<br>y=%{y}<br>title=%{customdata[0]}<extra></extra>",
         "legendgroup": "Longus",
         "marker": {
          "color": "#EF553B",
          "symbol": "circle"
         },
         "mode": "markers",
         "name": "Longus",
         "orientation": "v",
         "showlegend": true,
         "type": "scatter",
         "x": [
          -7.353556156158447
         ],
         "xaxis": "x",
         "y": [
          -14.329207420349121
         ],
         "yaxis": "y"
        },
        {
         "customdata": [
          [
           "Ἰλιάς"
          ],
          [
           "Ἐπιγράμματα"
          ],
          [
           "Ὀδύσσεια"
          ]
         ],
         "hovertemplate": "author=Homer<br>x=%{x}<br>y=%{y}<br>title=%{customdata[0]}<extra></extra>",
         "legendgroup": "Homer",
         "marker": {
          "color": "#00cc96",
          "symbol": "circle"
         },
         "mode": "markers",
         "name": "Homer",
         "orientation": "v",
         "showlegend": true,
         "type": "scatter",
         "x": [
          -9.721810340881348,
          -7.503048419952393,
          -7.561425685882568
         ],
         "xaxis": "x",
         "y": [
          -20.425207138061523,
          -17.925975799560547,
          -16.715774536132812
         ],
         "yaxis": "y"
        },
        {
         "customdata": [
          [
           "Cynegetica"
          ]
         ],
         "hovertemplate": "author=Oppian of Apamea<br>x=%{x}<br>y=%{y}<br>title=%{customdata[0]}<extra></extra>",
         "legendgroup": "Oppian of Apamea",
         "marker": {
          "color": "#ab63fa",
          "symbol": "circle"
         },
         "mode": "markers",
         "name": "Oppian of Apamea",
         "orientation": "v",
         "showlegend": true,
         "type": "scatter",
         "x": [
          -1.2197141647338867
         ],
         "xaxis": "x",
         "y": [
          -25.963056564331055
         ],
         "yaxis": "y"
        },
        {
         "customdata": [
          [
           "Halieutica"
          ]
         ],
         "hovertemplate": "author=Oppian<br>x=%{x}<br>y=%{y}<br>title=%{customdata[0]}<extra></extra>",
         "legendgroup": "Oppian",
         "marker": {
          "color": "#FFA15A",
          "symbol": "circle"
         },
         "mode": "markers",
         "name": "Oppian",
         "orientation": "v",
         "showlegend": true,
         "type": "scatter",
         "x": [
          -1.0412702560424805
         ],
         "xaxis": "x",
         "y": [
          -25.90022087097168
         ],
         "yaxis": "y"
        },
        {
         "customdata": [
          [
           "Eumenides"
          ],
          [
           "Ἱκέτιδες"
          ],
          [
           "Libation Bearers"
          ],
          [
           "Prometheus Bound"
          ],
          [
           "Seven Against Thebes"
          ],
          [
           "Agamemnon"
          ],
          [
           "Persians"
          ]
         ],
         "hovertemplate": "author=Aeschylus<br>x=%{x}<br>y=%{y}<br>title=%{customdata[0]}<extra></extra>",
         "legendgroup": "Aeschylus",
         "marker": {
          "color": "#19d3f3",
          "symbol": "circle"
         },
         "mode": "markers",
         "name": "Aeschylus",
         "orientation": "v",
         "showlegend": true,
         "type": "scatter",
         "x": [
          -0.8033650517463684,
          -1.63234543800354,
          -0.5338454842567444,
          -0.6784974336624146,
          0.34693869948387146,
          -13.908646583557129,
          -18.527849197387695
         ],
         "xaxis": "x",
         "y": [
          -26.433189392089844,
          -28.11550521850586,
          -26.594371795654297,
          -25.93406867980957,
          -26.413829803466797,
          -3.5698888301849365,
          -6.965974807739258
         ],
         "yaxis": "y"
        },
        {
         "customdata": [
          [
           "On Fractures "
          ],
          [
           "On Injuries of the Head"
          ],
          [
           "On Ancient Medicine"
          ],
          [
           "Of the Epidemics "
          ],
          [
           "On Fistulae "
          ],
          [
           "De officina medici "
          ],
          [
           "Aphorisms "
          ],
          [
           "De alimento "
          ],
          [
           "The Oath "
          ],
          [
           "The Book of Prognostics "
          ],
          [
           "On Regimen in Acute Diseases "
          ],
          [
           "Acut. sp. "
          ],
          [
           "De aere aquis et locis "
          ],
          [
           "Precepts "
          ],
          [
           "Mochlicus or Instruments of Reduction "
          ],
          [
           "On Hemorrhoids "
          ],
          [
           "On the Sacred Disease "
          ],
          [
           "On Ulcers "
          ],
          [
           "On the Articulations "
          ]
         ],
         "hovertemplate": "author=Hippocrates<br>x=%{x}<br>y=%{y}<br>title=%{customdata[0]}<extra></extra>",
         "legendgroup": "Hippocrates",
         "marker": {
          "color": "#FF6692",
          "symbol": "circle"
         },
         "mode": "markers",
         "name": "Hippocrates",
         "orientation": "v",
         "showlegend": true,
         "type": "scatter",
         "x": [
          -11.844086647033691,
          -12.64437484741211,
          -33.83333206176758,
          -33.97114562988281,
          -17.24711799621582,
          -6.572885513305664,
          -33.102630615234375,
          -35.53239822387695,
          -12.807737350463867,
          -12.478238105773926,
          -11.638956069946289,
          -6.11102294921875,
          -17.948163986206055,
          -33.475948333740234,
          -6.493160724639893,
          -7.267341613769531,
          -7.1422200202941895,
          -7.0749640464782715,
          -9.651269912719727
         ],
         "xaxis": "x",
         "y": [
          14.94493579864502,
          15.675564765930176,
          -6.74072265625,
          -9.803393363952637,
          -5.44509220123291,
          4.340956211090088,
          -5.865822792053223,
          -10.314061164855957,
          -3.315178394317627,
          -4.177017688751221,
          14.775444984436035,
          5.339974880218506,
          -5.923727989196777,
          -5.5158891677856445,
          4.926085472106934,
          6.878012180328369,
          5.654007434844971,
          10.128355026245117,
          -4.985081672668457
         ],
         "yaxis": "y"
        },
        {
         "customdata": [
          [
           "Elementa"
          ]
         ],
         "hovertemplate": "author=Euclid<br>x=%{x}<br>y=%{y}<br>title=%{customdata[0]}<extra></extra>",
         "legendgroup": "Euclid",
         "marker": {
          "color": "#B6E880",
          "symbol": "circle"
         },
         "mode": "markers",
         "name": "Euclid",
         "orientation": "v",
         "showlegend": true,
         "type": "scatter",
         "x": [
          -6.53012228012085
         ],
         "xaxis": "x",
         "y": [
          -5.953820705413818
         ],
         "yaxis": "y"
        },
        {
         "customdata": [
          [
           "Hymn 9 To Artemis"
          ],
          [
           "Hymn 31 To Helios"
          ],
          [
           "Hymn 7 To Dionysus"
          ],
          [
           "Hymn 1 To Dionysus"
          ],
          [
           "Hymn 6 To Aphrodite"
          ],
          [
           "Hymn 30 To Earth"
          ],
          [
           "Hymn 8 To Ares"
          ],
          [
           "Hymn 15 To Heracles the Lion-Hearted"
          ],
          [
           "Hymn 12 To Hera"
          ],
          [
           "Hymn 24 To Hestia"
          ],
          [
           "Hymn 23 to Zeus"
          ],
          [
           "Hymn 22 To Poseidon"
          ],
          [
           "Hymn 25 To the Muses and Apollo"
          ],
          [
           "Hymn 13 To Demeter"
          ],
          [
           "Hymn 14 to the Mother of the Gods"
          ],
          [
           "Hymn 32 To Selene"
          ],
          [
           "Hymn 3 To Apollo"
          ],
          [
           "Hymn 4 To Hermes"
          ],
          [
           "Hymn 5 To Aphrodite"
          ],
          [
           "Hymn 2 To Demeter"
          ],
          [
           "Hymn 33 To the Dioscuri"
          ],
          [
           "Hymn 11 To Athena"
          ],
          [
           "Hymn 16 To Asclepius"
          ],
          [
           "Hymn 29 To Hestia"
          ],
          [
           "Hymn 20 To Hephaestus"
          ],
          [
           "Hymn 27 To Artemis"
          ],
          [
           "Hymn 18 To Hermes"
          ],
          [
           "Hymn 26 To Dionysus"
          ],
          [
           "Hymn 19 to Pan"
          ],
          [
           "Hymn 21 To Apollo"
          ],
          [
           "Hymn 17 To the Dioscuri"
          ],
          [
           "Hymn 28 To Athena "
          ],
          [
           "Hymn 10 To Aphrodite"
          ]
         ],
         "hovertemplate": "author=Anonymous<br>x=%{x}<br>y=%{y}<br>title=%{customdata[0]}<extra></extra>",
         "legendgroup": "Anonymous",
         "marker": {
          "color": "#FF97FF",
          "symbol": "circle"
         },
         "mode": "markers",
         "name": "Anonymous",
         "orientation": "v",
         "showlegend": true,
         "type": "scatter",
         "x": [
          -7.522068977355957,
          -6.228783130645752,
          -7.557307720184326,
          -6.914597511291504,
          -8.896245002746582,
          -8.675254821777344,
          -10.788493156433105,
          -10.583951950073242,
          -11.695032119750977,
          -9.855334281921387,
          -8.357536315917969,
          -12.035921096801758,
          -8.849452018737793,
          -6.855113506317139,
          -9.566915512084961,
          -8.798108100891113,
          -9.327939987182617,
          -9.556564331054688,
          -7.679871559143066,
          -11.552247047424316,
          -11.479531288146973,
          -7.788434982299805,
          -9.199628829956055,
          -7.069657802581787,
          -7.886135578155518,
          -8.655548095703125,
          -7.311074733734131,
          -12.152321815490723,
          -11.971067428588867,
          -7.919922351837158,
          -11.10537338256836,
          15.498470306396484,
          20.5965518951416
         ],
         "xaxis": "x",
         "y": [
          -11.448216438293457,
          -5.303221702575684,
          -7.164637565612793,
          -5.324901580810547,
          -6.8158087730407715,
          -4.122834205627441,
          -5.443918228149414,
          -4.458320617675781,
          -4.884546756744385,
          -4.345542907714844,
          -3.1494359970092773,
          -4.903989791870117,
          -3.097907543182373,
          -6.319640159606934,
          -19.216367721557617,
          -19.108022689819336,
          -18.855335235595703,
          -18.950069427490234,
          -6.5622453689575195,
          -3.4984805583953857,
          -4.906456470489502,
          -4.69226598739624,
          -5.378429412841797,
          -7.015800476074219,
          -3.958878993988037,
          -4.793884754180908,
          -11.523799896240234,
          -5.4639716148376465,
          -5.422330856323242,
          -5.953754901885986,
          -4.208117485046387,
          8.313407897949219,
          10.15201473236084
         ],
         "yaxis": "y"
        },
        {
         "customdata": [
          [
           "κατὰ Κόνωνος αἰκείας"
          ],
          [
           "πρὸς Νικόστρατον περὶ ἀνδραπόδων ἀπογραφῆς Ἀρεθουσίου"
          ],
          [
           "προοίμια δημηγορικά"
          ],
          [
           "κατὰ Φιλίππου γ΄"
          ],
          [
           "παραγραφὴ ὑπὲρ Φορμίωνος"
          ],
          [
           "πρὸς Ὀνήτορα ἐξούλης β΄"
          ],
          [
           "παραγραφὴ πρὸς Ναυσίμακον καὶ Ξενοπείθην"
          ],
          [
           "περὶ Ἀλοννήσου"
          ],
          [
           "Δημοσθένους ἐπιστολαὶ"
          ],
          [
           "πρὸς Κάλλιππον"
          ],
          [
           "πρὸς Καλλικλέα περὶ χωρίου βλάβης"
          ],
          [
           "Ὀλυνθιακὸς α΄"
          ],
          [
           "πρὸς Βοιωτὸν περὶ τοῦ Ὀνόματος"
          ],
          [
           "κατὰ Φιλίππου β΄"
          ],
          [
           "πρὸς Ὀνήτορα ἐξούλης α΄"
          ],
          [
           "περὶ τῶν ἐν Χερρονήσῳ"
          ],
          [
           "παραγραφὴ πρὸς Πανταίνετον"
          ],
          [
           "ὑπὲρ τῆς Ῥοδίων ἐλευθερίας"
          ],
          [
           "ἐπιστολή [Φιλίππου]"
          ],
          [
           "κατὰ Τιμοκράτους"
          ],
          [
           "κατὰ Ἀριστοκράτους"
          ],
          [
           "κατὰ Ὀλυμπιοδώρου βλάβης"
          ],
          [
           "κατὰ Στεφάνου ψευδομαρτυριῶν β΄"
          ],
          [
           "πρὸς Σπουδίαν ὑπὲρ προικός"
          ],
          [
           "κατὰ Ἀνδροτίωνος παρανόμων"
          ],
          [
           "κατὰ Ἀριστογείτονος α΄"
          ],
          [
           "περὶ συντάξεως"
          ],
          [
           "περὶ τῶν συμμοριῶν"
          ],
          [
           "πρὸς Βοιωτὸν περὶ προικὸς μητρῴας"
          ],
          [
           "κατὰ Εὐέργου καὶ Μνησιβούλου ψευδομαρτυριῶν"
          ],
          [
           "πρὸς Τιμόθεον ὑπὲρ χρέως"
          ],
          [
           "πρὸς Ζηνόθεμιν παραγραφή"
          ],
          [
           "πρὸς τὴν Λάκριτον παραγραφὴν"
          ],
          [
           "Ὀλυνθιακὸς γ΄"
          ],
          [
           "κατὰ Φιλίππου α΄"
          ],
          [
           "πρὸς Πολυκλέα περὶ τοῦ ἐπιτριηραρχήματος"
          ],
          [
           "ἔφεσις πρὸς Εὐβουλίδην"
          ],
          [
           "ἐρωτικὸς"
          ],
          [
           "κατὰ Νεαίρας"
          ],
          [
           "περὶ τῆς εἰρήνης"
          ],
          [
           "Ὀλυνθιακὸς β΄"
          ],
          [
           "πρὸς Φορμίωνα ὑπὲρ δανείου"
          ],
          [
           "πρὸς Ἀπατούριον παραγραφή"
          ],
          [
           "ἔνδειξις κατὰ Θεοκρίνου"
          ],
          [
           "ἐπιτάφιος"
          ],
          [
           "κατὰ Διονυσοδώρου βλάβης"
          ],
          [
           "περὶ τοῦ Στεφάνου τῆς τριηραρκίας"
          ],
          [
           "πρὸς Φαίνιππον περὶ ἀντιδόσεως"
          ],
          [
           "κατὰ Στεφάνου ψευδομαρτυριῶν α΄"
          ],
          [
           "πρὸς τὴν ἐπιστολήν τὴν Φιλίππου"
          ],
          [
           "ὑπὲρ Μεγαλοπολιτῶν"
          ],
          [
           "πρὸς Ἄφοβον ὑπὲρ Φάνου ψευδομαρτυριῶν γ΄"
          ],
          [
           "περὶ τῆς Ἀτελείας πρὸς Λεπτίνην"
          ],
          [
           "κατὰ Ἀφόβου ἐπιτροπῆς α΄"
          ],
          [
           "ὑπὲρ Κτησιφῶντος περὶ τοῦ στεφάνου"
          ],
          [
           "πρὸς Λεωκάρη περὶ τοῦ Ἀρχιάδου κλήρου"
          ],
          [
           "πρὸς Μακάρτατον περὶ Ἁγνίου κλήρου"
          ],
          [
           "κατὰ Ἀριστογείτονος β΄"
          ],
          [
           "περὶ τῆς παραπρεσβείας"
          ],
          [
           "κατὰ Μειδίου περὶ τοῦ Κονδύλου"
          ],
          [
           "περὶ τῶν πρὸς Ἀλέξανδρον συνθηκῶν"
          ]
         ],
         "hovertemplate": "author=Demosthenes<br>x=%{x}<br>y=%{y}<br>title=%{customdata[0]}<extra></extra>",
         "legendgroup": "Demosthenes",
         "marker": {
          "color": "#FECB52",
          "symbol": "circle"
         },
         "mode": "markers",
         "name": "Demosthenes",
         "orientation": "v",
         "showlegend": true,
         "type": "scatter",
         "x": [
          19.73866844177246,
          20.54334259033203,
          15.569682121276855,
          17.19080352783203,
          18.140844345092773,
          15.370247840881348,
          19.3131160736084,
          21.647449493408203,
          16.13112449645996,
          18.85736083984375,
          16.19251823425293,
          17.034170150756836,
          17.518896102905273,
          19.795103073120117,
          15.919758796691895,
          17.139118194580078,
          16.87656593322754,
          25.15436363220215,
          24.524152755737305,
          20.97108268737793,
          21.81929588317871,
          17.434236526489258,
          23.901575088500977,
          23.307130813598633,
          18.259662628173828,
          17.969451904296875,
          20.83597755432129,
          21.089113235473633,
          20.81170654296875,
          16.580062866210938,
          18.757978439331055,
          18.98430061340332,
          18.769302368164062,
          20.478912353515625,
          16.634815216064453,
          10.240349769592285,
          25.578535079956055,
          16.602764129638672,
          18.33392333984375,
          19.222206115722656,
          20.920494079589844,
          24.280927658081055,
          6.025816917419434,
          18.640396118164062,
          17.70345115661621,
          19.19049835205078,
          17.028751373291016,
          2.9043257236480713,
          17.28702163696289,
          16.90776824951172,
          24.36795997619629,
          18.02663803100586,
          21.98657989501953,
          23.46877670288086,
          23.672391891479492,
          15.360652923583984,
          21.89598846435547,
          23.917098999023438,
          13.667529106140137,
          17.91765022277832,
          19.96363639831543
         ],
         "xaxis": "x",
         "y": [
          -4.178432941436768,
          -3.128695249557495,
          9.682674407958984,
          7.22424840927124,
          7.757575511932373,
          4.721743583679199,
          -0.20150810480117798,
          10.646235466003418,
          7.350917339324951,
          -2.850358009338379,
          10.292116165161133,
          -1.097719669342041,
          9.53324031829834,
          -3.0837857723236084,
          9.61219596862793,
          -3.1517364978790283,
          2.214306116104126,
          -2.3842852115631104,
          -4.0297112464904785,
          10.087411880493164,
          9.40684700012207,
          8.571990966796875,
          -2.9230847358703613,
          -1.6832606792449951,
          -2.318239450454712,
          -3.286733388900757,
          9.345417022705078,
          12.746519088745117,
          11.369754791259766,
          6.865113258361816,
          12.076240539550781,
          -2.5790886878967285,
          -2.877089738845825,
          12.192667007446289,
          10.979897499084473,
          -1.835552453994751,
          10.637595176696777,
          -1.0177029371261597,
          -1.3818073272705078,
          11.112086296081543,
          11.484245300292969,
          -0.7085328102111816,
          0.02510625682771206,
          11.90749454498291,
          0.3594163954257965,
          9.554648399353027,
          10.325016975402832,
          1.3620234727859497,
          -2.3700778484344482,
          9.291728019714355,
          -3.845247507095337,
          9.747701644897461,
          -3.4978208541870117,
          12.395867347717285,
          12.22142219543457,
          2.630324602127075,
          -3.6051125526428223,
          -2.7264950275421143,
          2.6600897312164307,
          8.723676681518555,
          -2.679194211959839
         ],
         "yaxis": "y"
        }
       ],
       "layout": {
        "legend": {
         "title": {
          "text": "author"
         },
         "tracegroupgap": 0
        },
        "margin": {
         "t": 60
        },
        "template": {
         "data": {
          "bar": [
           {
            "error_x": {
             "color": "#2a3f5f"
            },
            "error_y": {
             "color": "#2a3f5f"
            },
            "marker": {
             "line": {
              "color": "#E5ECF6",
              "width": 0.5
             },
             "pattern": {
              "fillmode": "overlay",
              "size": 10,
              "solidity": 0.2
             }
            },
            "type": "bar"
           }
          ],
          "barpolar": [
           {
            "marker": {
             "line": {
              "color": "#E5ECF6",
              "width": 0.5
             },
             "pattern": {
              "fillmode": "overlay",
              "size": 10,
              "solidity": 0.2
             }
            },
            "type": "barpolar"
           }
          ],
          "carpet": [
           {
            "aaxis": {
             "endlinecolor": "#2a3f5f",
             "gridcolor": "white",
             "linecolor": "white",
             "minorgridcolor": "white",
             "startlinecolor": "#2a3f5f"
            },
            "baxis": {
             "endlinecolor": "#2a3f5f",
             "gridcolor": "white",
             "linecolor": "white",
             "minorgridcolor": "white",
             "startlinecolor": "#2a3f5f"
            },
            "type": "carpet"
           }
          ],
          "choropleth": [
           {
            "colorbar": {
             "outlinewidth": 0,
             "ticks": ""
            },
            "type": "choropleth"
           }
          ],
          "contour": [
           {
            "colorbar": {
             "outlinewidth": 0,
             "ticks": ""
            },
            "colorscale": [
             [
              0,
              "#0d0887"
             ],
             [
              0.1111111111111111,
              "#46039f"
             ],
             [
              0.2222222222222222,
              "#7201a8"
             ],
             [
              0.3333333333333333,
              "#9c179e"
             ],
             [
              0.4444444444444444,
              "#bd3786"
             ],
             [
              0.5555555555555556,
              "#d8576b"
             ],
             [
              0.6666666666666666,
              "#ed7953"
             ],
             [
              0.7777777777777778,
              "#fb9f3a"
             ],
             [
              0.8888888888888888,
              "#fdca26"
             ],
             [
              1,
              "#f0f921"
             ]
            ],
            "type": "contour"
           }
          ],
          "contourcarpet": [
           {
            "colorbar": {
             "outlinewidth": 0,
             "ticks": ""
            },
            "type": "contourcarpet"
           }
          ],
          "heatmap": [
           {
            "colorbar": {
             "outlinewidth": 0,
             "ticks": ""
            },
            "colorscale": [
             [
              0,
              "#0d0887"
             ],
             [
              0.1111111111111111,
              "#46039f"
             ],
             [
              0.2222222222222222,
              "#7201a8"
             ],
             [
              0.3333333333333333,
              "#9c179e"
             ],
             [
              0.4444444444444444,
              "#bd3786"
             ],
             [
              0.5555555555555556,
              "#d8576b"
             ],
             [
              0.6666666666666666,
              "#ed7953"
             ],
             [
              0.7777777777777778,
              "#fb9f3a"
             ],
             [
              0.8888888888888888,
              "#fdca26"
             ],
             [
              1,
              "#f0f921"
             ]
            ],
            "type": "heatmap"
           }
          ],
          "heatmapgl": [
           {
            "colorbar": {
             "outlinewidth": 0,
             "ticks": ""
            },
            "colorscale": [
             [
              0,
              "#0d0887"
             ],
             [
              0.1111111111111111,
              "#46039f"
             ],
             [
              0.2222222222222222,
              "#7201a8"
             ],
             [
              0.3333333333333333,
              "#9c179e"
             ],
             [
              0.4444444444444444,
              "#bd3786"
             ],
             [
              0.5555555555555556,
              "#d8576b"
             ],
             [
              0.6666666666666666,
              "#ed7953"
             ],
             [
              0.7777777777777778,
              "#fb9f3a"
             ],
             [
              0.8888888888888888,
              "#fdca26"
             ],
             [
              1,
              "#f0f921"
             ]
            ],
            "type": "heatmapgl"
           }
          ],
          "histogram": [
           {
            "marker": {
             "pattern": {
              "fillmode": "overlay",
              "size": 10,
              "solidity": 0.2
             }
            },
            "type": "histogram"
           }
          ],
          "histogram2d": [
           {
            "colorbar": {
             "outlinewidth": 0,
             "ticks": ""
            },
            "colorscale": [
             [
              0,
              "#0d0887"
             ],
             [
              0.1111111111111111,
              "#46039f"
             ],
             [
              0.2222222222222222,
              "#7201a8"
             ],
             [
              0.3333333333333333,
              "#9c179e"
             ],
             [
              0.4444444444444444,
              "#bd3786"
             ],
             [
              0.5555555555555556,
              "#d8576b"
             ],
             [
              0.6666666666666666,
              "#ed7953"
             ],
             [
              0.7777777777777778,
              "#fb9f3a"
             ],
             [
              0.8888888888888888,
              "#fdca26"
             ],
             [
              1,
              "#f0f921"
             ]
            ],
            "type": "histogram2d"
           }
          ],
          "histogram2dcontour": [
           {
            "colorbar": {
             "outlinewidth": 0,
             "ticks": ""
            },
            "colorscale": [
             [
              0,
              "#0d0887"
             ],
             [
              0.1111111111111111,
              "#46039f"
             ],
             [
              0.2222222222222222,
              "#7201a8"
             ],
             [
              0.3333333333333333,
              "#9c179e"
             ],
             [
              0.4444444444444444,
              "#bd3786"
             ],
             [
              0.5555555555555556,
              "#d8576b"
             ],
             [
              0.6666666666666666,
              "#ed7953"
             ],
             [
              0.7777777777777778,
              "#fb9f3a"
             ],
             [
              0.8888888888888888,
              "#fdca26"
             ],
             [
              1,
              "#f0f921"
             ]
            ],
            "type": "histogram2dcontour"
           }
          ],
          "mesh3d": [
           {
            "colorbar": {
             "outlinewidth": 0,
             "ticks": ""
            },
            "type": "mesh3d"
           }
          ],
          "parcoords": [
           {
            "line": {
             "colorbar": {
              "outlinewidth": 0,
              "ticks": ""
             }
            },
            "type": "parcoords"
           }
          ],
          "pie": [
           {
            "automargin": true,
            "type": "pie"
           }
          ],
          "scatter": [
           {
            "fillpattern": {
             "fillmode": "overlay",
             "size": 10,
             "solidity": 0.2
            },
            "type": "scatter"
           }
          ],
          "scatter3d": [
           {
            "line": {
             "colorbar": {
              "outlinewidth": 0,
              "ticks": ""
             }
            },
            "marker": {
             "colorbar": {
              "outlinewidth": 0,
              "ticks": ""
             }
            },
            "type": "scatter3d"
           }
          ],
          "scattercarpet": [
           {
            "marker": {
             "colorbar": {
              "outlinewidth": 0,
              "ticks": ""
             }
            },
            "type": "scattercarpet"
           }
          ],
          "scattergeo": [
           {
            "marker": {
             "colorbar": {
              "outlinewidth": 0,
              "ticks": ""
             }
            },
            "type": "scattergeo"
           }
          ],
          "scattergl": [
           {
            "marker": {
             "colorbar": {
              "outlinewidth": 0,
              "ticks": ""
             }
            },
            "type": "scattergl"
           }
          ],
          "scattermapbox": [
           {
            "marker": {
             "colorbar": {
              "outlinewidth": 0,
              "ticks": ""
             }
            },
            "type": "scattermapbox"
           }
          ],
          "scatterpolar": [
           {
            "marker": {
             "colorbar": {
              "outlinewidth": 0,
              "ticks": ""
             }
            },
            "type": "scatterpolar"
           }
          ],
          "scatterpolargl": [
           {
            "marker": {
             "colorbar": {
              "outlinewidth": 0,
              "ticks": ""
             }
            },
            "type": "scatterpolargl"
           }
          ],
          "scatterternary": [
           {
            "marker": {
             "colorbar": {
              "outlinewidth": 0,
              "ticks": ""
             }
            },
            "type": "scatterternary"
           }
          ],
          "surface": [
           {
            "colorbar": {
             "outlinewidth": 0,
             "ticks": ""
            },
            "colorscale": [
             [
              0,
              "#0d0887"
             ],
             [
              0.1111111111111111,
              "#46039f"
             ],
             [
              0.2222222222222222,
              "#7201a8"
             ],
             [
              0.3333333333333333,
              "#9c179e"
             ],
             [
              0.4444444444444444,
              "#bd3786"
             ],
             [
              0.5555555555555556,
              "#d8576b"
             ],
             [
              0.6666666666666666,
              "#ed7953"
             ],
             [
              0.7777777777777778,
              "#fb9f3a"
             ],
             [
              0.8888888888888888,
              "#fdca26"
             ],
             [
              1,
              "#f0f921"
             ]
            ],
            "type": "surface"
           }
          ],
          "table": [
           {
            "cells": {
             "fill": {
              "color": "#EBF0F8"
             },
             "line": {
              "color": "white"
             }
            },
            "header": {
             "fill": {
              "color": "#C8D4E3"
             },
             "line": {
              "color": "white"
             }
            },
            "type": "table"
           }
          ]
         },
         "layout": {
          "annotationdefaults": {
           "arrowcolor": "#2a3f5f",
           "arrowhead": 0,
           "arrowwidth": 1
          },
          "autotypenumbers": "strict",
          "coloraxis": {
           "colorbar": {
            "outlinewidth": 0,
            "ticks": ""
           }
          },
          "colorscale": {
           "diverging": [
            [
             0,
             "#8e0152"
            ],
            [
             0.1,
             "#c51b7d"
            ],
            [
             0.2,
             "#de77ae"
            ],
            [
             0.3,
             "#f1b6da"
            ],
            [
             0.4,
             "#fde0ef"
            ],
            [
             0.5,
             "#f7f7f7"
            ],
            [
             0.6,
             "#e6f5d0"
            ],
            [
             0.7,
             "#b8e186"
            ],
            [
             0.8,
             "#7fbc41"
            ],
            [
             0.9,
             "#4d9221"
            ],
            [
             1,
             "#276419"
            ]
           ],
           "sequential": [
            [
             0,
             "#0d0887"
            ],
            [
             0.1111111111111111,
             "#46039f"
            ],
            [
             0.2222222222222222,
             "#7201a8"
            ],
            [
             0.3333333333333333,
             "#9c179e"
            ],
            [
             0.4444444444444444,
             "#bd3786"
            ],
            [
             0.5555555555555556,
             "#d8576b"
            ],
            [
             0.6666666666666666,
             "#ed7953"
            ],
            [
             0.7777777777777778,
             "#fb9f3a"
            ],
            [
             0.8888888888888888,
             "#fdca26"
            ],
            [
             1,
             "#f0f921"
            ]
           ],
           "sequentialminus": [
            [
             0,
             "#0d0887"
            ],
            [
             0.1111111111111111,
             "#46039f"
            ],
            [
             0.2222222222222222,
             "#7201a8"
            ],
            [
             0.3333333333333333,
             "#9c179e"
            ],
            [
             0.4444444444444444,
             "#bd3786"
            ],
            [
             0.5555555555555556,
             "#d8576b"
            ],
            [
             0.6666666666666666,
             "#ed7953"
            ],
            [
             0.7777777777777778,
             "#fb9f3a"
            ],
            [
             0.8888888888888888,
             "#fdca26"
            ],
            [
             1,
             "#f0f921"
            ]
           ]
          },
          "colorway": [
           "#636efa",
           "#EF553B",
           "#00cc96",
           "#ab63fa",
           "#FFA15A",
           "#19d3f3",
           "#FF6692",
           "#B6E880",
           "#FF97FF",
           "#FECB52"
          ],
          "font": {
           "color": "#2a3f5f"
          },
          "geo": {
           "bgcolor": "white",
           "lakecolor": "white",
           "landcolor": "#E5ECF6",
           "showlakes": true,
           "showland": true,
           "subunitcolor": "white"
          },
          "hoverlabel": {
           "align": "left"
          },
          "hovermode": "closest",
          "mapbox": {
           "style": "light"
          },
          "paper_bgcolor": "white",
          "plot_bgcolor": "#E5ECF6",
          "polar": {
           "angularaxis": {
            "gridcolor": "white",
            "linecolor": "white",
            "ticks": ""
           },
           "bgcolor": "#E5ECF6",
           "radialaxis": {
            "gridcolor": "white",
            "linecolor": "white",
            "ticks": ""
           }
          },
          "scene": {
           "xaxis": {
            "backgroundcolor": "#E5ECF6",
            "gridcolor": "white",
            "gridwidth": 2,
            "linecolor": "white",
            "showbackground": true,
            "ticks": "",
            "zerolinecolor": "white"
           },
           "yaxis": {
            "backgroundcolor": "#E5ECF6",
            "gridcolor": "white",
            "gridwidth": 2,
            "linecolor": "white",
            "showbackground": true,
            "ticks": "",
            "zerolinecolor": "white"
           },
           "zaxis": {
            "backgroundcolor": "#E5ECF6",
            "gridcolor": "white",
            "gridwidth": 2,
            "linecolor": "white",
            "showbackground": true,
            "ticks": "",
            "zerolinecolor": "white"
           }
          },
          "shapedefaults": {
           "line": {
            "color": "#2a3f5f"
           }
          },
          "ternary": {
           "aaxis": {
            "gridcolor": "white",
            "linecolor": "white",
            "ticks": ""
           },
           "baxis": {
            "gridcolor": "white",
            "linecolor": "white",
            "ticks": ""
           },
           "bgcolor": "#E5ECF6",
           "caxis": {
            "gridcolor": "white",
            "linecolor": "white",
            "ticks": ""
           }
          },
          "title": {
           "x": 0.05
          },
          "xaxis": {
           "automargin": true,
           "gridcolor": "white",
           "linecolor": "white",
           "ticks": "",
           "title": {
            "standoff": 15
           },
           "zerolinecolor": "white",
           "zerolinewidth": 2
          },
          "yaxis": {
           "automargin": true,
           "gridcolor": "white",
           "linecolor": "white",
           "ticks": "",
           "title": {
            "standoff": 15
           },
           "zerolinecolor": "white",
           "zerolinewidth": 2
          }
         }
        },
        "xaxis": {
         "anchor": "y",
         "domain": [
          0,
          1
         ],
         "title": {
          "text": "x"
         }
        },
        "yaxis": {
         "anchor": "x",
         "domain": [
          0,
          1
         ],
         "title": {
          "text": "y"
         }
        }
       }
      }
     },
     "metadata": {},
     "output_type": "display_data"
    }
   ],
   "source": [
    "df = pd.DataFrame(list(zip(_tsne, model.dv.index_to_key)))\n",
    "df['x'] = df[0].apply(lambda x: x[0])\n",
    "df['y'] = df[0].apply(lambda x: x[1])\n",
    "df = df.drop([0],axis=1)\n",
    "df = df.rename(columns={1:'doc_index'})\n",
    "df['title'] = g.title\n",
    "df['author'] = g.author\n",
    "#df['size'] = g.text_list.apply(lambda x: len(x))\n",
    "df = df.dropna()\n",
    "\n",
    "fig = px.scatter(df, x='x',y='y', color='author', hover_data=['title'])\n",
    "fig.show()"
   ]
  },
  {
   "cell_type": "code",
   "execution_count": 119,
   "metadata": {},
   "outputs": [],
   "source": [
    "model.dv.save('grc_d2v.kv')"
   ]
  },
  {
   "cell_type": "code",
   "execution_count": 123,
   "metadata": {},
   "outputs": [],
   "source": [
    "df.to_csv('grc_df.csv')"
   ]
  },
  {
   "cell_type": "code",
   "execution_count": 155,
   "metadata": {},
   "outputs": [
    {
     "data": {
      "text/html": [
       "<div>\n",
       "<style scoped>\n",
       "    .dataframe tbody tr th:only-of-type {\n",
       "        vertical-align: middle;\n",
       "    }\n",
       "\n",
       "    .dataframe tbody tr th {\n",
       "        vertical-align: top;\n",
       "    }\n",
       "\n",
       "    .dataframe thead th {\n",
       "        text-align: right;\n",
       "    }\n",
       "</style>\n",
       "<table border=\"1\" class=\"dataframe\">\n",
       "  <thead>\n",
       "    <tr style=\"text-align: right;\">\n",
       "      <th></th>\n",
       "      <th>doc_index</th>\n",
       "      <th>x</th>\n",
       "      <th>y</th>\n",
       "      <th>title</th>\n",
       "      <th>author</th>\n",
       "    </tr>\n",
       "  </thead>\n",
       "  <tbody>\n",
       "    <tr>\n",
       "      <th>220</th>\n",
       "      <td>220</td>\n",
       "      <td>12.597557</td>\n",
       "      <td>29.217722</td>\n",
       "      <td>Frogs</td>\n",
       "      <td>Aristophanes</td>\n",
       "    </tr>\n",
       "    <tr>\n",
       "      <th>221</th>\n",
       "      <td>221</td>\n",
       "      <td>11.614311</td>\n",
       "      <td>29.586895</td>\n",
       "      <td>Lysistrata</td>\n",
       "      <td>Aristophanes</td>\n",
       "    </tr>\n",
       "    <tr>\n",
       "      <th>222</th>\n",
       "      <td>222</td>\n",
       "      <td>11.342513</td>\n",
       "      <td>29.459852</td>\n",
       "      <td>Acharnians</td>\n",
       "      <td>Aristophanes</td>\n",
       "    </tr>\n",
       "    <tr>\n",
       "      <th>223</th>\n",
       "      <td>223</td>\n",
       "      <td>10.427096</td>\n",
       "      <td>29.648870</td>\n",
       "      <td>Birds</td>\n",
       "      <td>Aristophanes</td>\n",
       "    </tr>\n",
       "    <tr>\n",
       "      <th>224</th>\n",
       "      <td>224</td>\n",
       "      <td>11.935334</td>\n",
       "      <td>29.625521</td>\n",
       "      <td>Thesmophoriazusae</td>\n",
       "      <td>Aristophanes</td>\n",
       "    </tr>\n",
       "    <tr>\n",
       "      <th>225</th>\n",
       "      <td>225</td>\n",
       "      <td>15.841143</td>\n",
       "      <td>27.380346</td>\n",
       "      <td>Clouds</td>\n",
       "      <td>Aristophanes</td>\n",
       "    </tr>\n",
       "    <tr>\n",
       "      <th>226</th>\n",
       "      <td>226</td>\n",
       "      <td>15.840292</td>\n",
       "      <td>27.380499</td>\n",
       "      <td>Clouds</td>\n",
       "      <td>Aristophanes</td>\n",
       "    </tr>\n",
       "    <tr>\n",
       "      <th>227</th>\n",
       "      <td>227</td>\n",
       "      <td>11.526772</td>\n",
       "      <td>28.642685</td>\n",
       "      <td>Wasps</td>\n",
       "      <td>Aristophanes</td>\n",
       "    </tr>\n",
       "    <tr>\n",
       "      <th>228</th>\n",
       "      <td>228</td>\n",
       "      <td>10.987744</td>\n",
       "      <td>28.806728</td>\n",
       "      <td>Peace</td>\n",
       "      <td>Aristophanes</td>\n",
       "    </tr>\n",
       "    <tr>\n",
       "      <th>229</th>\n",
       "      <td>229</td>\n",
       "      <td>11.718765</td>\n",
       "      <td>28.441807</td>\n",
       "      <td>Knights</td>\n",
       "      <td>Aristophanes</td>\n",
       "    </tr>\n",
       "    <tr>\n",
       "      <th>230</th>\n",
       "      <td>230</td>\n",
       "      <td>10.718938</td>\n",
       "      <td>28.392235</td>\n",
       "      <td>Plutus</td>\n",
       "      <td>Aristophanes</td>\n",
       "    </tr>\n",
       "    <tr>\n",
       "      <th>231</th>\n",
       "      <td>231</td>\n",
       "      <td>11.993024</td>\n",
       "      <td>26.177876</td>\n",
       "      <td>Ecclesiazusae</td>\n",
       "      <td>Aristophanes</td>\n",
       "    </tr>\n",
       "    <tr>\n",
       "      <th>232</th>\n",
       "      <td>232</td>\n",
       "      <td>11.995077</td>\n",
       "      <td>26.163578</td>\n",
       "      <td>Ecclesiazusae</td>\n",
       "      <td>Aristophanes</td>\n",
       "    </tr>\n",
       "    <tr>\n",
       "      <th>314</th>\n",
       "      <td>314</td>\n",
       "      <td>-14.681650</td>\n",
       "      <td>-11.134709</td>\n",
       "      <td>New Testament - Galatians</td>\n",
       "      <td>New Testament</td>\n",
       "    </tr>\n",
       "    <tr>\n",
       "      <th>315</th>\n",
       "      <td>315</td>\n",
       "      <td>-12.262959</td>\n",
       "      <td>-9.389804</td>\n",
       "      <td>New Testament - 1 Corinthians</td>\n",
       "      <td>New Testament</td>\n",
       "    </tr>\n",
       "    <tr>\n",
       "      <th>316</th>\n",
       "      <td>316</td>\n",
       "      <td>-11.814470</td>\n",
       "      <td>-8.415355</td>\n",
       "      <td>New Testament - Matthew</td>\n",
       "      <td>New Testament</td>\n",
       "    </tr>\n",
       "    <tr>\n",
       "      <th>317</th>\n",
       "      <td>317</td>\n",
       "      <td>-14.854058</td>\n",
       "      <td>-4.628018</td>\n",
       "      <td>New Testament - Romans</td>\n",
       "      <td>New Testament</td>\n",
       "    </tr>\n",
       "    <tr>\n",
       "      <th>318</th>\n",
       "      <td>318</td>\n",
       "      <td>-19.537949</td>\n",
       "      <td>-5.739051</td>\n",
       "      <td>New Testament - 2 Corinthians</td>\n",
       "      <td>New Testament</td>\n",
       "    </tr>\n",
       "    <tr>\n",
       "      <th>319</th>\n",
       "      <td>319</td>\n",
       "      <td>-19.851181</td>\n",
       "      <td>-6.028392</td>\n",
       "      <td>New Testament - 1 Timothy</td>\n",
       "      <td>New Testament</td>\n",
       "    </tr>\n",
       "    <tr>\n",
       "      <th>320</th>\n",
       "      <td>320</td>\n",
       "      <td>-6.616617</td>\n",
       "      <td>-3.748937</td>\n",
       "      <td>New Testament - Colossians</td>\n",
       "      <td>New Testament</td>\n",
       "    </tr>\n",
       "    <tr>\n",
       "      <th>321</th>\n",
       "      <td>321</td>\n",
       "      <td>-17.130070</td>\n",
       "      <td>-7.404824</td>\n",
       "      <td>New Testament - 2 John</td>\n",
       "      <td>New Testament</td>\n",
       "    </tr>\n",
       "    <tr>\n",
       "      <th>322</th>\n",
       "      <td>322</td>\n",
       "      <td>-15.618896</td>\n",
       "      <td>-5.600910</td>\n",
       "      <td>New Testament - 1 John</td>\n",
       "      <td>New Testament</td>\n",
       "    </tr>\n",
       "    <tr>\n",
       "      <th>323</th>\n",
       "      <td>323</td>\n",
       "      <td>-13.381025</td>\n",
       "      <td>-5.441047</td>\n",
       "      <td>New Testament - 2 Peter</td>\n",
       "      <td>New Testament</td>\n",
       "    </tr>\n",
       "    <tr>\n",
       "      <th>324</th>\n",
       "      <td>324</td>\n",
       "      <td>-17.915813</td>\n",
       "      <td>-5.746893</td>\n",
       "      <td>New Testament - 3 John</td>\n",
       "      <td>New Testament</td>\n",
       "    </tr>\n",
       "    <tr>\n",
       "      <th>325</th>\n",
       "      <td>325</td>\n",
       "      <td>-14.783562</td>\n",
       "      <td>-11.265180</td>\n",
       "      <td>New Testament - 1 Thessalonians</td>\n",
       "      <td>New Testament</td>\n",
       "    </tr>\n",
       "    <tr>\n",
       "      <th>326</th>\n",
       "      <td>326</td>\n",
       "      <td>-14.831125</td>\n",
       "      <td>-12.105714</td>\n",
       "      <td>New Testament - 2 Thessalonians</td>\n",
       "      <td>New Testament</td>\n",
       "    </tr>\n",
       "    <tr>\n",
       "      <th>327</th>\n",
       "      <td>327</td>\n",
       "      <td>-14.831383</td>\n",
       "      <td>-10.800822</td>\n",
       "      <td>New Testament - Luke</td>\n",
       "      <td>New Testament</td>\n",
       "    </tr>\n",
       "    <tr>\n",
       "      <th>328</th>\n",
       "      <td>328</td>\n",
       "      <td>-14.602900</td>\n",
       "      <td>-10.948691</td>\n",
       "      <td>New Testament - John</td>\n",
       "      <td>New Testament</td>\n",
       "    </tr>\n",
       "    <tr>\n",
       "      <th>329</th>\n",
       "      <td>329</td>\n",
       "      <td>-13.232577</td>\n",
       "      <td>-6.576949</td>\n",
       "      <td>New Testament - Acts</td>\n",
       "      <td>New Testament</td>\n",
       "    </tr>\n",
       "    <tr>\n",
       "      <th>330</th>\n",
       "      <td>330</td>\n",
       "      <td>-14.465897</td>\n",
       "      <td>-5.697855</td>\n",
       "      <td>New Testament - Mark</td>\n",
       "      <td>New Testament</td>\n",
       "    </tr>\n",
       "    <tr>\n",
       "      <th>331</th>\n",
       "      <td>331</td>\n",
       "      <td>-11.038793</td>\n",
       "      <td>-7.861632</td>\n",
       "      <td>New Testament - Philippians</td>\n",
       "      <td>New Testament</td>\n",
       "    </tr>\n",
       "    <tr>\n",
       "      <th>332</th>\n",
       "      <td>332</td>\n",
       "      <td>-13.525719</td>\n",
       "      <td>-10.497964</td>\n",
       "      <td>New Testament - 2 Timothy</td>\n",
       "      <td>New Testament</td>\n",
       "    </tr>\n",
       "    <tr>\n",
       "      <th>333</th>\n",
       "      <td>333</td>\n",
       "      <td>-29.235926</td>\n",
       "      <td>-8.525734</td>\n",
       "      <td>New Testament - James</td>\n",
       "      <td>New Testament</td>\n",
       "    </tr>\n",
       "    <tr>\n",
       "      <th>334</th>\n",
       "      <td>334</td>\n",
       "      <td>-35.220387</td>\n",
       "      <td>-5.462414</td>\n",
       "      <td>New Testament - Revelation</td>\n",
       "      <td>New Testament</td>\n",
       "    </tr>\n",
       "    <tr>\n",
       "      <th>335</th>\n",
       "      <td>335</td>\n",
       "      <td>-11.734995</td>\n",
       "      <td>-6.721632</td>\n",
       "      <td>New Testament - Philemon</td>\n",
       "      <td>New Testament</td>\n",
       "    </tr>\n",
       "    <tr>\n",
       "      <th>336</th>\n",
       "      <td>336</td>\n",
       "      <td>-10.967924</td>\n",
       "      <td>-6.816382</td>\n",
       "      <td>New Testament - Jude</td>\n",
       "      <td>New Testament</td>\n",
       "    </tr>\n",
       "    <tr>\n",
       "      <th>337</th>\n",
       "      <td>337</td>\n",
       "      <td>-15.416536</td>\n",
       "      <td>-6.857225</td>\n",
       "      <td>New Testament - Hebrews</td>\n",
       "      <td>New Testament</td>\n",
       "    </tr>\n",
       "    <tr>\n",
       "      <th>338</th>\n",
       "      <td>338</td>\n",
       "      <td>-18.229872</td>\n",
       "      <td>-4.648550</td>\n",
       "      <td>New Testament - 1 Peter</td>\n",
       "      <td>New Testament</td>\n",
       "    </tr>\n",
       "    <tr>\n",
       "      <th>339</th>\n",
       "      <td>339</td>\n",
       "      <td>9.543459</td>\n",
       "      <td>-13.706945</td>\n",
       "      <td>New Testament - Titus</td>\n",
       "      <td>New Testament</td>\n",
       "    </tr>\n",
       "    <tr>\n",
       "      <th>340</th>\n",
       "      <td>340</td>\n",
       "      <td>4.493303</td>\n",
       "      <td>-12.679837</td>\n",
       "      <td>New Testament - Ephesians</td>\n",
       "      <td>New Testament</td>\n",
       "    </tr>\n",
       "  </tbody>\n",
       "</table>\n",
       "</div>"
      ],
      "text/plain": [
       "     doc_index          x          y                            title  \\\n",
       "220        220  12.597557  29.217722                            Frogs   \n",
       "221        221  11.614311  29.586895                       Lysistrata   \n",
       "222        222  11.342513  29.459852                       Acharnians   \n",
       "223        223  10.427096  29.648870                            Birds   \n",
       "224        224  11.935334  29.625521                Thesmophoriazusae   \n",
       "225        225  15.841143  27.380346                           Clouds   \n",
       "226        226  15.840292  27.380499                           Clouds   \n",
       "227        227  11.526772  28.642685                            Wasps   \n",
       "228        228  10.987744  28.806728                            Peace   \n",
       "229        229  11.718765  28.441807                          Knights   \n",
       "230        230  10.718938  28.392235                           Plutus   \n",
       "231        231  11.993024  26.177876                    Ecclesiazusae   \n",
       "232        232  11.995077  26.163578                    Ecclesiazusae   \n",
       "314        314 -14.681650 -11.134709        New Testament - Galatians   \n",
       "315        315 -12.262959  -9.389804    New Testament - 1 Corinthians   \n",
       "316        316 -11.814470  -8.415355          New Testament - Matthew   \n",
       "317        317 -14.854058  -4.628018           New Testament - Romans   \n",
       "318        318 -19.537949  -5.739051    New Testament - 2 Corinthians   \n",
       "319        319 -19.851181  -6.028392        New Testament - 1 Timothy   \n",
       "320        320  -6.616617  -3.748937       New Testament - Colossians   \n",
       "321        321 -17.130070  -7.404824           New Testament - 2 John   \n",
       "322        322 -15.618896  -5.600910           New Testament - 1 John   \n",
       "323        323 -13.381025  -5.441047          New Testament - 2 Peter   \n",
       "324        324 -17.915813  -5.746893           New Testament - 3 John   \n",
       "325        325 -14.783562 -11.265180  New Testament - 1 Thessalonians   \n",
       "326        326 -14.831125 -12.105714  New Testament - 2 Thessalonians   \n",
       "327        327 -14.831383 -10.800822             New Testament - Luke   \n",
       "328        328 -14.602900 -10.948691             New Testament - John   \n",
       "329        329 -13.232577  -6.576949             New Testament - Acts   \n",
       "330        330 -14.465897  -5.697855             New Testament - Mark   \n",
       "331        331 -11.038793  -7.861632      New Testament - Philippians   \n",
       "332        332 -13.525719 -10.497964        New Testament - 2 Timothy   \n",
       "333        333 -29.235926  -8.525734            New Testament - James   \n",
       "334        334 -35.220387  -5.462414       New Testament - Revelation   \n",
       "335        335 -11.734995  -6.721632         New Testament - Philemon   \n",
       "336        336 -10.967924  -6.816382             New Testament - Jude   \n",
       "337        337 -15.416536  -6.857225          New Testament - Hebrews   \n",
       "338        338 -18.229872  -4.648550          New Testament - 1 Peter   \n",
       "339        339   9.543459 -13.706945            New Testament - Titus   \n",
       "340        340   4.493303 -12.679837        New Testament - Ephesians   \n",
       "\n",
       "            author  \n",
       "220   Aristophanes  \n",
       "221   Aristophanes  \n",
       "222   Aristophanes  \n",
       "223   Aristophanes  \n",
       "224   Aristophanes  \n",
       "225   Aristophanes  \n",
       "226   Aristophanes  \n",
       "227   Aristophanes  \n",
       "228   Aristophanes  \n",
       "229   Aristophanes  \n",
       "230   Aristophanes  \n",
       "231   Aristophanes  \n",
       "232   Aristophanes  \n",
       "314  New Testament  \n",
       "315  New Testament  \n",
       "316  New Testament  \n",
       "317  New Testament  \n",
       "318  New Testament  \n",
       "319  New Testament  \n",
       "320  New Testament  \n",
       "321  New Testament  \n",
       "322  New Testament  \n",
       "323  New Testament  \n",
       "324  New Testament  \n",
       "325  New Testament  \n",
       "326  New Testament  \n",
       "327  New Testament  \n",
       "328  New Testament  \n",
       "329  New Testament  \n",
       "330  New Testament  \n",
       "331  New Testament  \n",
       "332  New Testament  \n",
       "333  New Testament  \n",
       "334  New Testament  \n",
       "335  New Testament  \n",
       "336  New Testament  \n",
       "337  New Testament  \n",
       "338  New Testament  \n",
       "339  New Testament  \n",
       "340  New Testament  "
      ]
     },
     "execution_count": 155,
     "metadata": {},
     "output_type": "execute_result"
    }
   ],
   "source": [
    "df.loc[df.author.str.contains('New Testament|Aristophanes')]"
   ]
  },
  {
   "cell_type": "code",
   "execution_count": 146,
   "metadata": {},
   "outputs": [],
   "source": [
    "title2index = dict(zip(g.title.to_list(),model.dv.index_to_key))\n",
    "index2title = dict(zip(model.dv.index_to_key,g.title.to_list()))"
   ]
  },
  {
   "cell_type": "code",
   "execution_count": 172,
   "metadata": {},
   "outputs": [],
   "source": [
    "import pickle\n",
    "\n",
    "pickle.dump(title2index, open('title2index.p','wb'))\n",
    "pickle.dump(index2title, open('index2title.p','wb'))"
   ]
  },
  {
   "cell_type": "code",
   "execution_count": 170,
   "metadata": {},
   "outputs": [],
   "source": [
    "import re\n",
    "def get_urn_cts(fname):\n",
    "    return re.search(r\"(tlg\\d+\\.tlg\\d+)\",fname)[0]"
   ]
  },
  {
   "cell_type": "code",
   "execution_count": 177,
   "metadata": {},
   "outputs": [
    {
     "data": {
      "text/plain": [
       "[('New Testament - 2 Corinthians',\n",
       "  'http://data.perseus.org/texts/urn:cts:greekLit:tlg0031.tlg008',\n",
       "  0.8035832643508911),\n",
       " ('New Testament - 1 Corinthians',\n",
       "  'http://data.perseus.org/texts/urn:cts:greekLit:tlg0031.tlg007',\n",
       "  0.7986435890197754),\n",
       " ('New Testament - 1 John',\n",
       "  'http://data.perseus.org/texts/urn:cts:greekLit:tlg0031.tlg023',\n",
       "  0.7570983171463013),\n",
       " ('New Testament - James',\n",
       "  'http://data.perseus.org/texts/urn:cts:greekLit:tlg0031.tlg020',\n",
       "  0.7469120025634766),\n",
       " ('Βαρνάβα ἐπιστολή',\n",
       "  'http://data.perseus.org/texts/urn:cts:greekLit:tlg1216.tlg001',\n",
       "  0.7348121404647827),\n",
       " ('New Testament - 1 Peter',\n",
       "  'http://data.perseus.org/texts/urn:cts:greekLit:tlg0031.tlg021',\n",
       "  0.7182907462120056),\n",
       " ('New Testament - Acts',\n",
       "  'http://data.perseus.org/texts/urn:cts:greekLit:tlg0031.tlg005',\n",
       "  0.7172637581825256),\n",
       " ('New Testament - John',\n",
       "  'http://data.perseus.org/texts/urn:cts:greekLit:tlg0031.tlg004',\n",
       "  0.694157063961029),\n",
       " ('New Testament - Luke',\n",
       "  'http://data.perseus.org/texts/urn:cts:greekLit:tlg0031.tlg003',\n",
       "  0.6897299885749817),\n",
       " ('New Testament - Revelation',\n",
       "  'http://data.perseus.org/texts/urn:cts:greekLit:tlg0031.tlg027',\n",
       "  0.6831345558166504),\n",
       " ('New Testament - Matthew',\n",
       "  'http://data.perseus.org/texts/urn:cts:greekLit:tlg0031.tlg001',\n",
       "  0.6755982637405396),\n",
       " ('For Callias',\n",
       "  'http://data.perseus.org/texts/urn:cts:greekLit:tlg0540.tlg005',\n",
       "  0.658270537853241),\n",
       " ('New Testament - 2 Timothy',\n",
       "  'http://data.perseus.org/texts/urn:cts:greekLit:tlg0031.tlg016',\n",
       "  0.6540630459785461),\n",
       " ('New Testament - Mark',\n",
       "  'http://data.perseus.org/texts/urn:cts:greekLit:tlg0031.tlg002',\n",
       "  0.646236777305603),\n",
       " ('New Testament - Philippians',\n",
       "  'http://data.perseus.org/texts/urn:cts:greekLit:tlg0031.tlg011',\n",
       "  0.6453152894973755),\n",
       " ('Orationes 10 ',\n",
       "  'http://data.perseus.org/texts/urn:cts:greekLit:tlg0284.tlg010',\n",
       "  0.639094352722168),\n",
       " ('New Testament - 1 Thessalonians',\n",
       "  'http://data.perseus.org/texts/urn:cts:greekLit:tlg0031.tlg013',\n",
       "  0.636462390422821),\n",
       " ('New Testament - Hebrews',\n",
       "  'http://data.perseus.org/texts/urn:cts:greekLit:tlg0031.tlg019',\n",
       "  0.632682740688324),\n",
       " ('New Testament - 1 Timothy',\n",
       "  'http://data.perseus.org/texts/urn:cts:greekLit:tlg0031.tlg015',\n",
       "  0.6300008893013),\n",
       " ('Hymn 25 To the Muses and Apollo',\n",
       "  'http://data.perseus.org/texts/urn:cts:greekLit:tlg0013.tlg025',\n",
       "  0.622438371181488),\n",
       " ('Hymn 18 To Hermes',\n",
       "  'http://data.perseus.org/texts/urn:cts:greekLit:tlg0013.tlg018',\n",
       "  0.6128169894218445),\n",
       " ('On The Property Of Eraton',\n",
       "  'http://data.perseus.org/texts/urn:cts:greekLit:tlg0540.tlg017',\n",
       "  0.6110314130783081),\n",
       " ('Hesiod',\n",
       "  'http://data.perseus.org/texts/urn:cts:greekLit:tlg0062.tlg061',\n",
       "  0.6093266606330872),\n",
       " ('New Testament - Galatians',\n",
       "  'http://data.perseus.org/texts/urn:cts:greekLit:tlg0031.tlg009',\n",
       "  0.6025893688201904),\n",
       " ('Quis Dis Salvetur',\n",
       "  'http://data.perseus.org/texts/urn:cts:greekLit:tlg0555.tlg006',\n",
       "  0.5987204909324646),\n",
       " ('Apology',\n",
       "  'http://data.perseus.org/texts/urn:cts:greekLit:tlg0032.tlg005',\n",
       "  0.5985231995582581),\n",
       " ('New Testament - 2 Thessalonians',\n",
       "  'http://data.perseus.org/texts/urn:cts:greekLit:tlg0031.tlg014',\n",
       "  0.5982018113136292),\n",
       " ('New Testament - Titus',\n",
       "  'http://data.perseus.org/texts/urn:cts:greekLit:tlg0031.tlg017',\n",
       "  0.5954831838607788),\n",
       " ('Σύνοψις τοῦ ὅτι παραδοξότερα οἱ Στωικοὶ τῶν ποιητῶν λέγουσι',\n",
       "  'http://data.perseus.org/texts/urn:cts:greekLit:tlg0007.tlg137',\n",
       "  0.591636061668396),\n",
       " ('Against The Subversion of the Ancestral Constitution',\n",
       "  'http://data.perseus.org/texts/urn:cts:greekLit:tlg0540.tlg034',\n",
       "  0.5887830853462219)]"
      ]
     },
     "execution_count": 177,
     "metadata": {},
     "output_type": "execute_result"
    }
   ],
   "source": [
    "res = model.dv.most_similar(title2index['New Testament - Romans'], topn=30)\n",
    "[(g.iloc[tup[0]]['title'], f'http://data.perseus.org/texts/urn:cts:greekLit:{get_urn_cts(g.iloc[tup[0]][\"filename\"])}',tup[1]) for tup in res] # (tlg\\d+\\.tlg\\d+)"
   ]
  },
  {
   "cell_type": "code",
   "execution_count": 163,
   "metadata": {},
   "outputs": [
    {
     "data": {
      "text/plain": [
       "'tlg0057.tlg010'"
      ]
     },
     "execution_count": 163,
     "metadata": {},
     "output_type": "execute_result"
    }
   ],
   "source": [
    "re.search('(tlg\\d+\\.tlg\\d+)', g.iloc[0]['filename'])[0]"
   ]
  },
  {
   "cell_type": "code",
   "execution_count": 175,
   "metadata": {},
   "outputs": [],
   "source": [
    "g_notext = g.drop(['text_list'],axis=1)\n",
    "g_notext.to_csv('grc_perseus_notext.csv')"
   ]
  },
  {
   "cell_type": "code",
   "execution_count": null,
   "metadata": {},
   "outputs": [],
   "source": []
  }
 ],
 "metadata": {
  "kernelspec": {
   "display_name": "Python 3.10.8 ('w2v')",
   "language": "python",
   "name": "python3"
  },
  "language_info": {
   "codemirror_mode": {
    "name": "ipython",
    "version": 3
   },
   "file_extension": ".py",
   "mimetype": "text/x-python",
   "name": "python",
   "nbconvert_exporter": "python",
   "pygments_lexer": "ipython3",
   "version": "3.10.8"
  },
  "orig_nbformat": 4,
  "vscode": {
   "interpreter": {
    "hash": "b6395d14b8bd5e838533326991f0b0dffc177e180ad10f42a92a27d59a9f06a3"
   }
  }
 },
 "nbformat": 4,
 "nbformat_minor": 2
}
